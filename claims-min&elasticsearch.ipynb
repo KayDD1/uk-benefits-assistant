{
 "cells": [
  {
   "cell_type": "code",
   "execution_count": 1,
   "id": "808e5608-ea49-4dba-8a90-796cb45d3d30",
   "metadata": {},
   "outputs": [],
   "source": [
    "import requests\n",
    "import pandas as pd"
   ]
  },
  {
   "cell_type": "code",
   "execution_count": 5,
   "id": "a694a178-66a8-409c-95ec-57411be6a1c1",
   "metadata": {},
   "outputs": [],
   "source": [
    "df = pd.read_csv('notebooks/claims.csv')"
   ]
  },
  {
   "cell_type": "code",
   "execution_count": 6,
   "id": "c4fb3ec4-d1f2-41f9-82f7-01f95f927a97",
   "metadata": {},
   "outputs": [],
   "source": [
    "documents = df.to_dict(orient='records')"
   ]
  },
  {
   "cell_type": "code",
   "execution_count": 7,
   "id": "e8f861cd-5d67-4314-a54c-6302917ca871",
   "metadata": {},
   "outputs": [
    {
     "data": {
      "text/plain": [
       "{'Category': 'Manage existing benefit',\n",
       " 'Question': 'How do I update my benefit information?',\n",
       " 'Answer': 'You can update your benefit information online through your account.',\n",
       " 'Section': 'general claim benefits'}"
      ]
     },
     "execution_count": 7,
     "metadata": {},
     "output_type": "execute_result"
    }
   ],
   "source": [
    "documents[0]"
   ]
  },
  {
   "cell_type": "code",
   "execution_count": null,
   "id": "6acf5eff-f27c-49f0-ab22-90d34beef662",
   "metadata": {},
   "outputs": [],
   "source": [
    "from sentence_transformers import SentenceTransformer\n",
    "\n",
    "model_name = 'multi-qa-MiniLM-L6-cos-v1'\n",
    "model = SentenceTransformer(model_name)"
   ]
  },
  {
   "cell_type": "code",
   "execution_count": null,
   "id": "b58ff3d3-7dfd-40f2-a5c9-748f5efe5de6",
   "metadata": {},
   "outputs": [],
   "source": [
    "len(model.encode(\"Getting size of model dim\"))"
   ]
  },
  {
   "cell_type": "code",
   "execution_count": null,
   "id": "0202b1aa-595b-4d4f-a25e-16806bbafb81",
   "metadata": {},
   "outputs": [],
   "source": [
    "sections = []\n",
    "for doc in documents:\n",
    "    # Transforming the title into an embedding using the model\n",
    "    doc[\"text_vector\"] = model.encode(doc[\"category\"]).tolist()\n",
    "    sections.append(doc)"
   ]
  },
  {
   "cell_type": "code",
   "execution_count": null,
   "id": "beeff6ff-f974-43bd-8e27-64c5e807cbb5",
   "metadata": {},
   "outputs": [],
   "source": [
    "from elasticsearch import Elasticsearch\n",
    "es_client = Elasticsearch('http://localhost:9200') \n",
    "\n",
    "index_settings = {\n",
    "    \"settings\": {\n",
    "        \"number_of_shards\": 1,\n",
    "        \"number_of_replicas\": 0\n",
    "    },\n",
    "    \"mappings\": {\n",
    "        \"properties\": {\n",
    "            \"answer\": {\"type\": \"text\"},\n",
    "            \"question\": {\"type\": \"text\"},\n",
    "            \"category\": {\"type\": \"keyword\"},\n",
    "            \"text_vector\": {\"type\": \"dense_vector\", \"dims\": 384, \"index\": True, \"similarity\": \"cosine\"},\n",
    "        }\n",
    "    }\n",
    "}\n",
    "index_name = \"uk-benefit-claims\"\n",
    "\n",
    "es_client.indices.delete(index=index_name, ignore_unavailable=True)\n",
    "es_client.indices.create(index=index_name, body=index_settings)"
   ]
  },
  {
   "cell_type": "code",
   "execution_count": null,
   "id": "90a9e7fe-24e1-460b-9749-d4c73ddf2751",
   "metadata": {},
   "outputs": [],
   "source": [
    "for doc in sections:\n",
    "    try:\n",
    "        es_client.index(index=index_name, document=doc)\n",
    "    except Exception as e:\n",
    "        print(e)"
   ]
  },
  {
   "cell_type": "code",
   "execution_count": null,
   "id": "c893e2c1-16d3-4490-b8ea-bd9b59c61a19",
   "metadata": {},
   "outputs": [],
   "source": [
    "search_term = \"How do I stop claiming benefits?\"\n",
    "vector_search_term = model.encode(search_term)"
   ]
  },
  {
   "cell_type": "code",
   "execution_count": null,
   "id": "f4d8f944-0039-4933-a182-b49ef4e534ba",
   "metadata": {},
   "outputs": [],
   "source": [
    "query = {\n",
    "    \"field\": \"text_vector\",\n",
    "    \"query_vector\": vector_search_term,\n",
    "    \"k\": 5,\n",
    "    \"num_candidates\": 10000, \n",
    "}"
   ]
  },
  {
   "cell_type": "code",
   "execution_count": null,
   "id": "ac39da17-ba1f-463a-b657-fe7ac87f3771",
   "metadata": {},
   "outputs": [],
   "source": [
    "res = es_client.search(index=index_name, knn=query, source=[\"text\", \"section\", \"question\", \"course\"])\n",
    "res[\"hits\"][\"hits\"]"
   ]
  },
  {
   "cell_type": "code",
   "execution_count": null,
   "id": "c8ec7946-ff8a-4aad-869a-e6171810c621",
   "metadata": {},
   "outputs": [],
   "source": [
    "knn_query = {\n",
    "    \"field\": \"text_vector\",\n",
    "    \"query_vector\": vector_search_term,\n",
    "    \"k\": 5,\n",
    "    \"num_candidates\": 10000\n",
    "}\n",
    "response = es_client.search(\n",
    "    index=index_name,\n",
    "    query={\n",
    "        \"match\": {\"category\": \"Manage existing benefit\"},\n",
    "    },\n",
    "    knn=knn_query,\n",
    "    size=5\n",
    ")\n",
    "response[\"hits\"][\"hits\"]"
   ]
  },
  {
   "cell_type": "code",
   "execution_count": null,
   "id": "15a67dad-b5cc-4350-95ad-53fe46495322",
   "metadata": {},
   "outputs": [],
   "source": []
  }
 ],
 "metadata": {
  "kernelspec": {
   "display_name": "Python 3 (ipykernel)",
   "language": "python",
   "name": "python3"
  },
  "language_info": {
   "codemirror_mode": {
    "name": "ipython",
    "version": 3
   },
   "file_extension": ".py",
   "mimetype": "text/x-python",
   "name": "python",
   "nbconvert_exporter": "python",
   "pygments_lexer": "ipython3",
   "version": "3.12.1"
  }
 },
 "nbformat": 4,
 "nbformat_minor": 5
}
