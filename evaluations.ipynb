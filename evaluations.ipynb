{
 "cells": [
  {
   "cell_type": "markdown",
   "id": "932a5e33-803f-49fc-8804-80205c554999",
   "metadata": {},
   "source": [
    "## Evaluating Elasticsearch"
   ]
  },
  {
   "cell_type": "code",
   "execution_count": 46,
   "id": "26324d9f-cae4-4985-8afd-6b0d5cd5020a",
   "metadata": {},
   "outputs": [],
   "source": [
    "import json\n",
    "\n",
    "\n",
    "from tqdm.auto import tqdm\n",
    "from sentence_transformers import SentenceTransformer"
   ]
  },
  {
   "cell_type": "code",
   "execution_count": 2,
   "id": "3745793b-499a-4057-b6be-07ffbed6e805",
   "metadata": {},
   "outputs": [
    {
     "data": {
      "text/plain": [
       "{'Category': 'Temporarily unable to work',\n",
       " 'Question': \"Can I get sick pay if I'm self-isolating?\",\n",
       " 'Answer': \"Yes Statutory Sick Pay is available if you're self-isolating.\",\n",
       " 'Section': 'general claim benefits',\n",
       " 'id': '1de35e0b-f233-554c-84ef-fc30494e0ea0'}"
      ]
     },
     "execution_count": 2,
     "metadata": {},
     "output_type": "execute_result"
    }
   ],
   "source": [
    "with open('notebooks/documents-with-ids.json', 'r') as file:\n",
    "    documents = json.load(file)\n",
    "\n",
    "documents[10]"
   ]
  },
  {
   "cell_type": "code",
   "execution_count": 3,
   "id": "e224fd76-bd4d-4918-bbf4-dea23f05fc4b",
   "metadata": {},
   "outputs": [
    {
     "data": {
      "text/plain": [
       "ObjectApiResponse({'acknowledged': True, 'shards_acknowledged': True, 'index': 'benefit-claims'})"
      ]
     },
     "execution_count": 3,
     "metadata": {},
     "output_type": "execute_result"
    }
   ],
   "source": [
    "from elasticsearch import Elasticsearch\n",
    "\n",
    "es_client = Elasticsearch('http://localhost:9200') \n",
    "\n",
    "index_settings = {\n",
    "    \"settings\": {\n",
    "        \"number_of_shards\": 1,\n",
    "        \"number_of_replicas\": 0\n",
    "    },\n",
    "    \"mappings\": {\n",
    "        \"properties\": {\n",
    "            \"Answer\": {\"type\": \"text\"},\n",
    "            \"Category\": {\"type\": \"text\"},\n",
    "            \"Question\": {\"type\": \"text\"},\n",
    "            \"Section\": {\"type\": \"keyword\"},\n",
    "            \"id\": {\"type\": \"keyword\"},\n",
    "        }\n",
    "    }\n",
    "}\n",
    "\n",
    "index_name = \"benefit-claims\"\n",
    "\n",
    "es_client.indices.delete(index=index_name, ignore_unavailable=True)\n",
    "es_client.indices.create(index=index_name, body=index_settings)"
   ]
  },
  {
   "cell_type": "code",
   "execution_count": 4,
   "id": "f73fdbda-9b9f-41df-a8f5-a018c77a843c",
   "metadata": {},
   "outputs": [
    {
     "data": {
      "application/vnd.jupyter.widget-view+json": {
       "model_id": "afca443618484497942a213ccaa91d28",
       "version_major": 2,
       "version_minor": 0
      },
      "text/plain": [
       "  0%|          | 0/425 [00:00<?, ?it/s]"
      ]
     },
     "metadata": {},
     "output_type": "display_data"
    }
   ],
   "source": [
    "for doc in tqdm(documents):\n",
    "    es_client.index(index=index_name, document=doc)"
   ]
  },
  {
   "cell_type": "code",
   "execution_count": 5,
   "id": "4bb5a916-6169-4a18-99da-502ce35f0d84",
   "metadata": {},
   "outputs": [],
   "source": [
    "def elastic_search(query, section):\n",
    "    search_query = {\n",
    "        \"size\": 5,\n",
    "        \"query\": {\n",
    "            \"bool\": {\n",
    "                \"must\": {\n",
    "                    \"multi_match\": {\n",
    "                        \"query\": query,\n",
    "                        \"fields\": [\"Question^3\", \"Answer\", \"Category\"],\n",
    "                        \"type\": \"best_fields\"\n",
    "                    }\n",
    "                },\n",
    "                \"filter\": {\n",
    "                    \"term\": {\n",
    "                        \"Section\": section\n",
    "                    }\n",
    "                }\n",
    "            }\n",
    "        }\n",
    "    }\n",
    "\n",
    "    response = es_client.search(index=index_name, body=search_query)\n",
    "    \n",
    "    result_docs = []\n",
    "    \n",
    "    for hit in response['hits']['hits']:\n",
    "        result_docs.append(hit['_source'])\n",
    "    \n",
    "    return result_docs"
   ]
  },
  {
   "cell_type": "code",
   "execution_count": 6,
   "id": "3efd1ce6-2586-430d-b096-1bb62bc0f3fe",
   "metadata": {},
   "outputs": [
    {
     "data": {
      "text/plain": [
       "[{'Category': 'Temporarily unable to work',\n",
       "  'Question': \"Can I get sick pay if I'm self-isolating?\",\n",
       "  'Answer': \"Yes Statutory Sick Pay is available if you're self-isolating.\",\n",
       "  'Section': 'general claim benefits',\n",
       "  'id': '1de35e0b-f233-554c-84ef-fc30494e0ea0'},\n",
       " {'Category': 'Temporarily unable to work',\n",
       "  'Question': 'How do I apply for sick pay?',\n",
       "  'Answer': 'You need to provide a fit note from your doctor to apply for sick pay.',\n",
       "  'Section': 'general claim benefits',\n",
       "  'id': 'ecc42084-d88e-5bf0-8070-a18552c283bb'},\n",
       " {'Category': 'Temporarily unable to work',\n",
       "  'Question': 'What is statutory sick pay?',\n",
       "  'Answer': \"Statutory Sick Pay is a legal requirement for employers to pay you if you're ill.\",\n",
       "  'Section': 'general claim benefits',\n",
       "  'id': 'ee6a77ec-d4ef-50f7-9762-04cc228b3a48'},\n",
       " {'Category': 'Disabled or health condition',\n",
       "  'Question': 'Can I get help with housing if I’m disabled?',\n",
       "  'Answer': 'You may be eligible for a Disabled Facilities Grant to adapt your home to your needs.',\n",
       "  'Section': 'general claim benefits',\n",
       "  'id': 'b71b5ef5-f71a-5385-9aa9-57d6526268eb'},\n",
       " {'Category': 'Temporarily unable to work',\n",
       "  'Question': 'What happens if I’m still sick after SSP ends?',\n",
       "  'Answer': 'You may be able to claim ESA or another benefit if you’re still unable to work after your SSP ends.',\n",
       "  'Section': 'general claim benefits',\n",
       "  'id': '65c4c178-022d-505b-82af-2794fe166d32'}]"
      ]
     },
     "execution_count": 6,
     "metadata": {},
     "output_type": "execute_result"
    }
   ],
   "source": [
    "elastic_search(\n",
    "    query=\"Can I get sick pay if I'm self-isolating?\",\n",
    "    section=\"general claim benefits\"\n",
    ")"
   ]
  },
  {
   "cell_type": "code",
   "execution_count": 47,
   "id": "d595474a-7987-427a-87be-64ca700c10ef",
   "metadata": {},
   "outputs": [],
   "source": [
    "import pandas as pd"
   ]
  },
  {
   "cell_type": "code",
   "execution_count": 7,
   "id": "5b865aa6-a086-4078-a3c5-781ff97e0a84",
   "metadata": {},
   "outputs": [],
   "source": [
    "df_ground_truth = pd.read_csv('notebooks/ground-truth-data.csv')"
   ]
  },
  {
   "cell_type": "code",
   "execution_count": 8,
   "id": "0edbe26b-01eb-4d45-b03a-edf6c317245e",
   "metadata": {},
   "outputs": [],
   "source": [
    "ground_truth = df_ground_truth.to_dict(orient='records')"
   ]
  },
  {
   "cell_type": "code",
   "execution_count": 9,
   "id": "632a65e6-733e-4cb0-b670-ec83128c3568",
   "metadata": {},
   "outputs": [
    {
     "data": {
      "text/plain": [
       "{'question': 'Is it possible to appeal?',\n",
       " 'claims_type': 'general claim benefits',\n",
       " 'document': '8d000ade-6c2b-571c-aa61-5d38eb463cf8'}"
      ]
     },
     "execution_count": 9,
     "metadata": {},
     "output_type": "execute_result"
    }
   ],
   "source": [
    "ground_truth[10]"
   ]
  },
  {
   "cell_type": "code",
   "execution_count": 10,
   "id": "a07ff867-9c55-4843-9705-c86cfaf11610",
   "metadata": {},
   "outputs": [
    {
     "data": {
      "text/plain": [
       "[{'Category': 'Temporarily unable to work',\n",
       "  'Question': \"Can I get sick pay if I'm self-isolating?\",\n",
       "  'Answer': \"Yes Statutory Sick Pay is available if you're self-isolating.\",\n",
       "  'Section': 'general claim benefits',\n",
       "  'id': '1de35e0b-f233-554c-84ef-fc30494e0ea0'},\n",
       " {'Category': 'Temporarily unable to work',\n",
       "  'Question': 'How do I apply for sick pay?',\n",
       "  'Answer': 'You need to provide a fit note from your doctor to apply for sick pay.',\n",
       "  'Section': 'general claim benefits',\n",
       "  'id': 'ecc42084-d88e-5bf0-8070-a18552c283bb'},\n",
       " {'Category': 'Temporarily unable to work',\n",
       "  'Question': 'What is statutory sick pay?',\n",
       "  'Answer': \"Statutory Sick Pay is a legal requirement for employers to pay you if you're ill.\",\n",
       "  'Section': 'general claim benefits',\n",
       "  'id': 'ee6a77ec-d4ef-50f7-9762-04cc228b3a48'},\n",
       " {'Category': 'Disabled or health condition',\n",
       "  'Question': 'Can I get help with housing if I’m disabled?',\n",
       "  'Answer': 'You may be eligible for a Disabled Facilities Grant to adapt your home to your needs.',\n",
       "  'Section': 'general claim benefits',\n",
       "  'id': 'b71b5ef5-f71a-5385-9aa9-57d6526268eb'},\n",
       " {'Category': 'Temporarily unable to work',\n",
       "  'Question': 'What happens if I’m still sick after SSP ends?',\n",
       "  'Answer': 'You may be able to claim ESA or another benefit if you’re still unable to work after your SSP ends.',\n",
       "  'Section': 'general claim benefits',\n",
       "  'id': '65c4c178-022d-505b-82af-2794fe166d32'}]"
      ]
     },
     "execution_count": 10,
     "metadata": {},
     "output_type": "execute_result"
    }
   ],
   "source": [
    "elastic_search(\n",
    "    query=\"Can I get sick pay if I'm self-isolating?\",\n",
    "    section=\"general claim benefits\"\n",
    ")"
   ]
  },
  {
   "cell_type": "code",
   "execution_count": 11,
   "id": "49545fa2-ecdb-46f7-9fb7-8ef120d15517",
   "metadata": {},
   "outputs": [
    {
     "data": {
      "application/vnd.jupyter.widget-view+json": {
       "model_id": "789c4567fd8c4a31927451b90231fea1",
       "version_major": 2,
       "version_minor": 0
      },
      "text/plain": [
       "  0%|          | 0/2055 [00:00<?, ?it/s]"
      ]
     },
     "metadata": {},
     "output_type": "display_data"
    }
   ],
   "source": [
    "relevance_total = []\n",
    "\n",
    "for q in tqdm(ground_truth):\n",
    "    doc_id = q['document']\n",
    "    results = elastic_search(query=q['question'], section=q['claims_type'])\n",
    "    relevance = [d['id'] == doc_id for d in results]\n",
    "    relevance_total.append(relevance)"
   ]
  },
  {
   "cell_type": "code",
   "execution_count": 12,
   "id": "ee635871-3ed5-4283-ac5e-1adb1b2d32be",
   "metadata": {},
   "outputs": [],
   "source": [
    "def hit_rate(relevance_total):\n",
    "    cnt = 0\n",
    "\n",
    "    for line in relevance_total:\n",
    "        if True in line:\n",
    "            cnt = cnt + 1\n",
    "\n",
    "    return cnt / len(relevance_total)"
   ]
  },
  {
   "cell_type": "code",
   "execution_count": 13,
   "id": "98bfa957-e3de-4030-a32b-480936f4d42b",
   "metadata": {},
   "outputs": [],
   "source": [
    "def mrr(relevance_total):\n",
    "    total_score = 0.0\n",
    "\n",
    "    for line in relevance_total:\n",
    "        for rank in range(len(line)):\n",
    "            if line[rank] == True:\n",
    "                total_score = total_score + 1 / (rank + 1)\n",
    "\n",
    "    return total_score / len(relevance_total)"
   ]
  },
  {
   "cell_type": "code",
   "execution_count": 14,
   "id": "d8975a20-3402-4463-a1e2-7de8c8629c63",
   "metadata": {},
   "outputs": [
    {
     "data": {
      "text/plain": [
       "(0.7732360097323601, 0.6168369829683708)"
      ]
     },
     "execution_count": 14,
     "metadata": {},
     "output_type": "execute_result"
    }
   ],
   "source": [
    "hit_rate(relevance_total), mrr(relevance_total)"
   ]
  },
  {
   "cell_type": "code",
   "execution_count": 15,
   "id": "cbaef7fb-bcd1-4e68-b130-aa48e48b6c75",
   "metadata": {},
   "outputs": [
    {
     "data": {
      "text/plain": [
       "{'Category': 'Temporarily unable to work',\n",
       " 'Question': \"Can I get sick pay if I'm self-isolating?\",\n",
       " 'Answer': \"Yes Statutory Sick Pay is available if you're self-isolating.\",\n",
       " 'Section': 'general claim benefits',\n",
       " 'id': '1de35e0b-f233-554c-84ef-fc30494e0ea0'}"
      ]
     },
     "execution_count": 15,
     "metadata": {},
     "output_type": "execute_result"
    }
   ],
   "source": [
    "documents[10]"
   ]
  },
  {
   "cell_type": "markdown",
   "id": "0ebd9939-21a9-46eb-bf22-0437da8370d9",
   "metadata": {},
   "source": [
    "## Minsearch"
   ]
  },
  {
   "cell_type": "code",
   "execution_count": 16,
   "id": "b1eb57eb-744c-493e-90e8-f6ff089c21e0",
   "metadata": {},
   "outputs": [
    {
     "data": {
      "text/plain": [
       "<minsearch.Index at 0x7b56b0afc620>"
      ]
     },
     "execution_count": 16,
     "metadata": {},
     "output_type": "execute_result"
    }
   ],
   "source": [
    "import minsearch\n",
    "\n",
    "index = minsearch.Index(\n",
    "    text_fields=[\"Question\", \"Answer\", \"Category\"],\n",
    "    keyword_fields=[\"Section\", \"id\"]\n",
    ")\n",
    "\n",
    "index.fit(documents)"
   ]
  },
  {
   "cell_type": "code",
   "execution_count": 37,
   "id": "22a41389-7e8a-4d94-bbc1-02ea1f98f801",
   "metadata": {},
   "outputs": [],
   "source": [
    "def min_search(query, section):\n",
    "    boost = {'Question': 3.0, 'Category': 0.5}\n",
    "\n",
    "    results = index.search(\n",
    "        query=query,\n",
    "        filter_dict={'Section': section},\n",
    "        boost_dict=boost,\n",
    "        num_results=5\n",
    "    )\n",
    "\n",
    "    return results"
   ]
  },
  {
   "cell_type": "code",
   "execution_count": 38,
   "id": "186cecd6-030e-47f5-ab9c-b5d08c09e7cb",
   "metadata": {},
   "outputs": [
    {
     "data": {
      "text/plain": [
       "{'question': 'How can I change my existing benefit details?',\n",
       " 'claims_type': 'general claim benefits',\n",
       " 'document': '30eada08-5708-5c5c-9df8-0f7d5d4dc131'}"
      ]
     },
     "execution_count": 38,
     "metadata": {},
     "output_type": "execute_result"
    }
   ],
   "source": [
    "ground_truth[0]"
   ]
  },
  {
   "cell_type": "code",
   "execution_count": 39,
   "id": "cba0a1c7-1582-4496-b34c-34eabefcd790",
   "metadata": {},
   "outputs": [
    {
     "data": {
      "application/vnd.jupyter.widget-view+json": {
       "model_id": "a1c4f2327dde4aceab99ee556c6a5878",
       "version_major": 2,
       "version_minor": 0
      },
      "text/plain": [
       "  0%|          | 0/2055 [00:00<?, ?it/s]"
      ]
     },
     "metadata": {},
     "output_type": "display_data"
    }
   ],
   "source": [
    "relevance_total = []\n",
    "\n",
    "for q in tqdm(ground_truth):\n",
    "    doc_id = q['document']\n",
    "    results = min_search(query=q['question'], section=q['claims_type'])\n",
    "    relevance = [d['id'] == doc_id for d in results]\n",
    "    relevance_total.append(relevance)"
   ]
  },
  {
   "cell_type": "code",
   "execution_count": 40,
   "id": "01092289-dab6-4041-87e2-ad30e7e8c096",
   "metadata": {},
   "outputs": [
    {
     "data": {
      "text/plain": [
       "(0.8306569343065694, 0.6697891321978915)"
      ]
     },
     "execution_count": 40,
     "metadata": {},
     "output_type": "execute_result"
    }
   ],
   "source": [
    "hit_rate(relevance_total), mrr(relevance_total)"
   ]
  },
  {
   "cell_type": "markdown",
   "id": "fe720b07-0aef-4f9c-96bb-b38e6ff00d0b",
   "metadata": {},
   "source": [
    "`ES- Hitrate:0.7732360097323601, MRR:0.6168369829683708)`"
   ]
  },
  {
   "cell_type": "code",
   "execution_count": 41,
   "id": "d429cf53-1e59-4c9a-b988-0ef0577631b4",
   "metadata": {},
   "outputs": [],
   "source": [
    "def evaluate(ground_truth, search_function):\n",
    "    relevance_total = []\n",
    "\n",
    "    for q in tqdm(ground_truth):\n",
    "        doc_id = q['document']\n",
    "        results = search_function(q)\n",
    "        relevance = [d['id'] == doc_id for d in results]\n",
    "        relevance_total.append(relevance)\n",
    "\n",
    "    return {\n",
    "        'hit_rate': hit_rate(relevance_total),\n",
    "        'mrr': mrr(relevance_total),\n",
    "    }"
   ]
  },
  {
   "cell_type": "code",
   "execution_count": 43,
   "id": "8b2ed2e6-48c5-4e73-98b5-4a2a534608f3",
   "metadata": {},
   "outputs": [
    {
     "data": {
      "application/vnd.jupyter.widget-view+json": {
       "model_id": "886f178151c9490bac407e46290a635e",
       "version_major": 2,
       "version_minor": 0
      },
      "text/plain": [
       "  0%|          | 0/2055 [00:00<?, ?it/s]"
      ]
     },
     "metadata": {},
     "output_type": "display_data"
    },
    {
     "data": {
      "text/plain": [
       "{'hit_rate': 0.7732360097323601, 'mrr': 0.616999188969993}"
      ]
     },
     "execution_count": 43,
     "metadata": {},
     "output_type": "execute_result"
    }
   ],
   "source": [
    "evaluate(ground_truth, lambda q: elastic_search(q['question'], q['claims_type']))"
   ]
  },
  {
   "cell_type": "code",
   "execution_count": 45,
   "id": "413b3d55-26d3-4b57-a36b-a782e54ee3b9",
   "metadata": {},
   "outputs": [
    {
     "data": {
      "application/vnd.jupyter.widget-view+json": {
       "model_id": "954b9fa9f0984badbdbc1cf0172cfbbc",
       "version_major": 2,
       "version_minor": 0
      },
      "text/plain": [
       "  0%|          | 0/2055 [00:00<?, ?it/s]"
      ]
     },
     "metadata": {},
     "output_type": "display_data"
    },
    {
     "data": {
      "text/plain": [
       "{'hit_rate': 0.8306569343065694, 'mrr': 0.6697891321978915}"
      ]
     },
     "execution_count": 45,
     "metadata": {},
     "output_type": "execute_result"
    }
   ],
   "source": [
    "evaluate(ground_truth, lambda q: min_search(q['question'], q['claims_type']))"
   ]
  },
  {
   "cell_type": "markdown",
   "id": "9b318ed7-bf2c-4cdd-a125-36b24e8796d7",
   "metadata": {},
   "source": [
    "## Vector Search"
   ]
  },
  {
   "cell_type": "code",
   "execution_count": 48,
   "id": "8f8ffab4-5c4c-4127-877c-1e52fb4e8076",
   "metadata": {},
   "outputs": [
    {
     "name": "stderr",
     "output_type": "stream",
     "text": [
      "/home/codespace/.local/share/virtualenvs/uk-benefits-assistant-nL9c5Gpa/lib/python3.12/site-packages/transformers/tokenization_utils_base.py:1601: FutureWarning: `clean_up_tokenization_spaces` was not set. It will be set to `True` by default. This behavior will be depracted in transformers v4.45, and will be then set to `False` by default. For more details check this issue: https://github.com/huggingface/transformers/issues/31884\n",
      "  warnings.warn(\n"
     ]
    }
   ],
   "source": [
    "model_name = 'multi-qa-MiniLM-L6-cos-v1'\n",
    "model = SentenceTransformer(model_name)"
   ]
  },
  {
   "cell_type": "code",
   "execution_count": 49,
   "id": "e7d951c6-6861-4d82-923b-1d710f9592df",
   "metadata": {},
   "outputs": [],
   "source": [
    "v = model.encode(\"Can I get sick pay if I'm self-isolating?\")"
   ]
  },
  {
   "cell_type": "code",
   "execution_count": 50,
   "id": "988d8d40-3ecb-4e51-9c00-9879df281571",
   "metadata": {},
   "outputs": [
    {
     "data": {
      "text/plain": [
       "384"
      ]
     },
     "execution_count": 50,
     "metadata": {},
     "output_type": "execute_result"
    }
   ],
   "source": [
    "len(v)"
   ]
  },
  {
   "cell_type": "code",
   "execution_count": 85,
   "id": "5f9bf41c-ae95-49cb-b16d-bd2b4852daa0",
   "metadata": {},
   "outputs": [
    {
     "data": {
      "text/plain": [
       "ObjectApiResponse({'acknowledged': True, 'shards_acknowledged': True, 'index': 'benefit-claims'})"
      ]
     },
     "execution_count": 85,
     "metadata": {},
     "output_type": "execute_result"
    }
   ],
   "source": [
    "index_settings = {\n",
    "    \"settings\": {\n",
    "        \"number_of_shards\": 1,\n",
    "        \"number_of_replicas\": 0\n",
    "    },\n",
    "    \"mappings\": {\n",
    "        \"properties\": {\n",
    "            \"Answer\": {\"type\": \"text\"},\n",
    "            \"category\": {\"type\": \"text\"},\n",
    "            \"Question\": {\"type\": \"text\"},\n",
    "            \"Section\": {\"type\": \"keyword\"},\n",
    "            \"id\": {\"type\": \"keyword\"},\n",
    "            \"question_vector\": {\n",
    "                \"type\": \"dense_vector\",\n",
    "                \"dims\": 384,\n",
    "                \"index\": True,\n",
    "                \"similarity\": \"cosine\"\n",
    "            },\n",
    "            \"answer_vector\": {\n",
    "                \"type\": \"dense_vector\",\n",
    "                \"dims\": 384,\n",
    "                \"index\": True,\n",
    "                \"similarity\": \"cosine\"\n",
    "            },\n",
    "            \"question_answer_vector\": {\n",
    "                \"type\": \"dense_vector\",\n",
    "                \"dims\": 384,\n",
    "                \"index\": True,\n",
    "                \"similarity\": \"cosine\"\n",
    "            },\n",
    "        }\n",
    "    }\n",
    "}\n",
    "\n",
    "index_name = \"benefit-claims\"\n",
    "\n",
    "es_client.indices.delete(index=index_name, ignore_unavailable=True)\n",
    "es_client.indices.create(index=index_name, body=index_settings)"
   ]
  },
  {
   "cell_type": "code",
   "execution_count": 86,
   "id": "c99063de-f696-4736-bbee-ea929aae4784",
   "metadata": {},
   "outputs": [
    {
     "data": {
      "text/plain": [
       "{'Category': 'Manage existing benefit',\n",
       " 'Question': 'How do I update my benefit information?',\n",
       " 'Answer': 'You can update your benefit information online through your account.',\n",
       " 'Section': 'general claim benefits',\n",
       " 'id': '30eada08-5708-5c5c-9df8-0f7d5d4dc131',\n",
       " 'question_vector': array([-1.80060193e-02,  5.96722253e-02,  1.26943989e-02, -3.90117168e-02,\n",
       "         2.84865871e-02,  9.22173411e-02,  2.27035414e-02,  2.67567299e-02,\n",
       "        -3.86952274e-02, -2.83248979e-03, -2.74528917e-02,  2.94101797e-03,\n",
       "        -3.46847787e-03, -1.18925475e-01,  1.39166079e-02,  3.98957506e-02,\n",
       "        -1.79248862e-02,  7.15748966e-02, -4.80940826e-02, -3.22361998e-02,\n",
       "        -1.01363212e-01, -2.29153130e-02, -4.96070758e-02,  4.44727466e-02,\n",
       "         2.36339159e-02,  6.05530553e-02, -2.41196901e-02,  3.91690135e-02,\n",
       "        -5.07083908e-03, -1.72626209e-02,  5.26820458e-02, -4.72456887e-02,\n",
       "         1.85332298e-02, -2.26278715e-02,  3.78295816e-02, -8.19180743e-04,\n",
       "        -8.93227831e-02,  2.79583391e-02,  3.62434611e-02,  2.95684598e-02,\n",
       "         1.28234876e-02, -4.71203513e-02, -2.58526504e-02,  4.01287824e-02,\n",
       "         5.14381391e-04, -6.46635368e-02, -1.60548873e-02, -7.36966904e-05,\n",
       "        -3.04961432e-04,  1.01817749e-01,  5.14526404e-02, -1.44917201e-02,\n",
       "         2.61510047e-03, -5.08670136e-03,  3.51261464e-03,  4.08684388e-02,\n",
       "         4.80734780e-02,  1.16931766e-01, -1.21062681e-01,  8.92671477e-03,\n",
       "        -9.71338898e-03,  4.15569916e-03,  2.73554772e-02,  1.74864866e-02,\n",
       "        -4.09242921e-02,  7.67435820e-04,  8.29718262e-03,  4.15972881e-02,\n",
       "         3.97111726e-04, -8.63342658e-02, -7.68686607e-02, -7.26899207e-02,\n",
       "        -5.17280102e-02, -4.78601120e-02,  1.67988613e-02,  4.72763404e-02,\n",
       "        -7.27752876e-03,  6.44347295e-02, -1.82834342e-02,  1.11527024e-02,\n",
       "         1.03872491e-03,  2.00153589e-02, -4.32561599e-02,  8.39743670e-03,\n",
       "         8.17569941e-02,  1.42296879e-02,  7.65395015e-02, -1.06939180e-02,\n",
       "         8.66993666e-02,  4.93092136e-03,  3.57253887e-02,  2.80451346e-02,\n",
       "         4.19083610e-02, -5.68360575e-02,  1.23949554e-02, -5.10056801e-02,\n",
       "        -5.68778627e-02, -4.05550264e-02, -2.02283729e-02,  6.15700446e-02,\n",
       "         2.62250453e-02, -1.12936711e-02, -2.70097256e-02, -8.38036183e-03,\n",
       "        -1.57259051e-02, -6.03326336e-02,  5.63033344e-03,  9.61236954e-02,\n",
       "         6.86504394e-02, -1.55682042e-02,  4.60826755e-02, -2.65667532e-02,\n",
       "        -2.81950999e-02, -6.00830838e-02, -4.85779680e-02, -4.63114344e-02,\n",
       "        -7.70649686e-02,  1.04653789e-02,  2.46036667e-02, -7.91671202e-02,\n",
       "         1.10319257e-01,  4.98047061e-02,  3.29679693e-03, -1.75309535e-02,\n",
       "        -1.17072597e-01, -2.90188454e-02,  3.28981355e-02,  5.13718162e-31,\n",
       "         2.76056994e-02,  3.85636762e-02,  4.93346862e-02,  5.70563525e-02,\n",
       "        -2.34117247e-02, -1.62606817e-02,  1.78468246e-02,  8.33280664e-03,\n",
       "         4.24137004e-02, -1.64371729e-02,  4.53466550e-02,  6.64207637e-02,\n",
       "         4.65623923e-02, -2.24775970e-02, -7.27243200e-02,  3.33692729e-02,\n",
       "        -9.03818086e-02,  3.03683970e-02,  6.45957068e-02,  7.00437799e-02,\n",
       "         5.43083996e-02, -8.92988443e-02,  4.79287934e-03,  4.19039913e-02,\n",
       "         7.84365758e-02,  3.86793166e-02, -3.10823452e-02,  3.63982692e-02,\n",
       "        -1.07414566e-01, -2.13416535e-02,  8.54283273e-02, -4.87482660e-02,\n",
       "         1.15614012e-01, -7.46676400e-02,  7.88644049e-03, -5.87664209e-02,\n",
       "         2.67933868e-02, -1.24665657e-02,  2.53567398e-02, -2.19965186e-02,\n",
       "         5.45791574e-02, -9.14935321e-02,  8.41205493e-02, -5.20192795e-02,\n",
       "         1.29572256e-02,  3.44084240e-02,  2.61505526e-02,  1.63725938e-03,\n",
       "         6.48750365e-02, -3.24685723e-02, -1.29303290e-03, -4.56072614e-02,\n",
       "        -9.56113413e-02, -4.08529602e-02, -8.70454758e-02, -4.37654033e-02,\n",
       "        -5.78815229e-02, -3.41460705e-02, -8.92105326e-03, -4.64105532e-02,\n",
       "        -2.64034234e-02, -4.50084694e-02,  2.58323066e-02, -6.17471486e-02,\n",
       "         1.03689805e-02,  4.38255072e-02,  4.89146672e-02, -8.50027278e-02,\n",
       "         4.81753834e-02, -5.62028959e-03, -6.36218712e-02,  8.78681988e-02,\n",
       "        -3.09302341e-02, -2.72446163e-02, -1.99948158e-02, -6.23753294e-02,\n",
       "        -7.10058585e-02,  9.76179913e-02, -5.71265556e-02,  2.76859310e-02,\n",
       "         7.34696314e-02, -8.01042467e-02, -4.25773524e-02,  1.68489274e-02,\n",
       "         1.55266762e-01,  1.07938848e-01,  7.21912971e-03,  6.59088865e-02,\n",
       "        -4.43035886e-02,  1.73909068e-02,  6.18168563e-02,  4.76606190e-02,\n",
       "        -2.24449625e-03,  3.60868275e-02,  3.33750620e-02, -2.36913411e-33,\n",
       "        -1.81244053e-02,  9.45906527e-03, -2.48785820e-02, -9.80603993e-02,\n",
       "         2.20017955e-02,  1.52145717e-02,  4.17693742e-02, -2.45165993e-02,\n",
       "         1.04904342e-02,  7.84403384e-02,  3.29088718e-02,  6.67941943e-03,\n",
       "        -8.66468027e-02,  1.12558359e-04, -1.51312590e-01,  7.01633468e-02,\n",
       "        -1.63460113e-02,  2.81712525e-02, -2.47134380e-02,  7.79973227e-04,\n",
       "        -5.29923439e-02,  7.86908343e-02, -3.07695363e-02, -2.80410564e-03,\n",
       "         9.38571617e-03,  3.14668678e-02,  5.53853437e-03,  4.97195311e-03,\n",
       "         4.05161716e-02,  2.71858480e-02,  1.04486861e-03, -4.51264791e-02,\n",
       "        -9.65516791e-02,  5.49408682e-02,  2.69186795e-02, -5.25314510e-02,\n",
       "         1.62077304e-02, -9.55959409e-02, -6.59168661e-02,  6.70220032e-02,\n",
       "         8.66103359e-03,  2.08479539e-02,  2.66762953e-02, -3.60647440e-02,\n",
       "         5.61530665e-02,  1.66176483e-02, -2.55657714e-02, -2.85754949e-02,\n",
       "        -5.97585030e-02,  5.96733466e-02,  1.08514458e-01, -7.71094114e-03,\n",
       "         5.68084791e-02,  5.68034574e-02,  4.07364406e-02, -1.48474872e-02,\n",
       "         2.27533970e-02, -9.36660990e-02,  1.30736157e-02, -3.52612585e-02,\n",
       "        -9.55239534e-02,  7.28701577e-02, -9.68327932e-03,  7.04433918e-02,\n",
       "         1.18921176e-02, -3.41113433e-02,  2.93424595e-02, -2.95142643e-02,\n",
       "        -2.48796642e-02, -6.63305596e-02, -9.73852128e-02, -2.02440210e-02,\n",
       "        -3.86983193e-02, -7.11128563e-02,  1.13763157e-02, -4.04301323e-02,\n",
       "         1.94676332e-02, -3.36434767e-02, -3.90897840e-02,  3.05948984e-02,\n",
       "         1.46964919e-02, -3.24824154e-02,  2.45920904e-02, -8.10378864e-02,\n",
       "        -2.35032942e-03,  3.82205509e-02,  1.65374167e-02,  3.02136056e-02,\n",
       "         4.51799035e-02, -3.27229649e-02, -1.22008763e-01,  1.54864555e-02,\n",
       "        -1.55444453e-02, -2.27825306e-02, -8.21448304e-03, -3.26071737e-33,\n",
       "        -1.65283552e-03,  1.50869759e-02, -1.82447229e-02,  1.33189990e-03,\n",
       "        -7.33062485e-03, -2.99495514e-02, -1.94268867e-01,  4.73931320e-02,\n",
       "        -1.98819600e-02, -8.67346376e-02, -1.34914210e-02,  4.01020534e-02,\n",
       "        -2.42229737e-03, -4.33470570e-02,  5.57925627e-02, -1.54178170e-02,\n",
       "        -1.72960274e-02,  2.58800350e-02,  7.22846687e-02, -7.42927864e-02,\n",
       "         1.40413512e-02,  7.78312935e-03,  2.09111311e-02, -8.37159678e-02,\n",
       "         5.12134694e-02,  2.61037447e-03,  7.82699883e-02,  4.90374006e-02,\n",
       "         4.79734279e-02, -1.29038710e-02,  5.27385771e-02,  7.26825604e-03,\n",
       "         7.54437819e-02,  9.58790444e-03,  3.49123180e-02, -5.97188137e-02,\n",
       "         7.39105046e-02,  5.82288615e-02,  6.44818023e-02,  8.70326310e-02,\n",
       "         2.34984849e-02,  8.76167789e-02,  5.04764216e-03,  5.48710972e-02,\n",
       "        -1.08988926e-01, -6.31050020e-02, -3.27828936e-02, -5.14745973e-02,\n",
       "         3.18846516e-02, -8.91175866e-02,  3.95418145e-02, -3.35461758e-02,\n",
       "         5.38546555e-02,  2.92156562e-02, -5.09198569e-02, -4.29623164e-02,\n",
       "         1.74051188e-02, -4.23168391e-02, -1.93031374e-02, -2.70025549e-03,\n",
       "         5.63447997e-02, -1.05425082e-02, -5.01866564e-02, -2.85222922e-02],\n",
       "       dtype=float32),\n",
       " 'text_vector': array([-1.73409488e-02, -1.75123813e-03,  1.59607851e-04, -3.46090719e-02,\n",
       "         2.87929773e-02,  8.27935264e-02, -5.85122779e-03,  2.92293541e-03,\n",
       "        -1.88767090e-02, -3.98297384e-02, -2.77719647e-02,  1.31074451e-02,\n",
       "         2.05724332e-02, -1.00280583e-01,  4.02258746e-02,  1.45046478e-02,\n",
       "        -1.74008962e-02,  5.28175719e-02, -1.62793621e-02, -3.17502618e-02,\n",
       "        -6.64883330e-02, -4.93553877e-02, -5.21231778e-02,  3.20231616e-02,\n",
       "         1.87482890e-02,  2.35147495e-03, -2.44161058e-02,  3.73201296e-02,\n",
       "        -2.17742305e-02, -2.11668070e-02,  4.01202962e-02, -2.89366692e-02,\n",
       "        -3.94530222e-03, -2.14583427e-02,  4.13108729e-02, -1.46610737e-02,\n",
       "        -7.78685212e-02,  4.01799791e-02,  6.78856531e-03,  2.41253767e-02,\n",
       "        -1.77956722e-03, -5.09697981e-02, -5.85550517e-02,  4.93932888e-02,\n",
       "         1.65429264e-02, -4.08385321e-02, -4.34076153e-02,  1.27724111e-02,\n",
       "        -1.28343459e-02,  1.17204234e-01,  6.08182624e-02, -2.62920260e-02,\n",
       "         1.03834383e-02,  4.17603459e-03, -1.08053787e-02,  5.48386201e-02,\n",
       "         5.80222197e-02,  9.72104520e-02, -9.79756787e-02,  4.61569056e-02,\n",
       "        -1.15915183e-02, -3.36704515e-02,  7.92785361e-03,  2.45572720e-02,\n",
       "        -4.77181897e-02,  1.54440673e-02,  8.37236736e-03,  2.69056428e-02,\n",
       "        -2.19360106e-02, -1.28466770e-01, -7.90345445e-02, -1.01041652e-01,\n",
       "        -4.83667478e-02, -3.78188565e-02,  2.52383389e-02,  4.07100804e-02,\n",
       "        -1.49643635e-02,  3.93685810e-02, -7.83479679e-03,  4.43531498e-02,\n",
       "        -5.56782493e-03,  4.32492010e-02, -4.18519415e-02, -1.04755433e-02,\n",
       "         8.32547247e-02,  1.51718156e-02,  1.00965083e-01, -1.47297904e-02,\n",
       "         1.36727765e-01,  1.25269787e-02,  4.08325307e-02,  3.94427106e-02,\n",
       "         4.70170118e-02, -5.61651811e-02, -2.46640611e-02, -6.58880994e-02,\n",
       "        -8.39961041e-03, -2.97381207e-02, -3.99437435e-02,  4.41504121e-02,\n",
       "         3.00386250e-02,  2.63154116e-02,  3.72677483e-03, -1.07588340e-02,\n",
       "        -1.92320794e-02, -7.64131965e-03,  2.74534747e-02,  1.02238059e-01,\n",
       "         9.42690447e-02, -1.85835529e-02,  3.66927050e-02, -1.92057695e-02,\n",
       "         3.75430100e-03, -6.71583936e-02, -3.97700369e-02, -1.66714396e-02,\n",
       "        -8.70857760e-02,  3.37864133e-03,  6.13541566e-02, -8.27798098e-02,\n",
       "         1.03936650e-01,  6.52005672e-02,  1.66032638e-03, -8.07586834e-02,\n",
       "        -6.62932917e-02, -4.17560972e-02,  5.55473752e-03,  2.80935533e-31,\n",
       "         2.92472746e-02,  7.64560103e-02,  5.10308184e-02,  2.00642794e-02,\n",
       "        -2.11508460e-02, -2.88950037e-02,  3.62146683e-02,  1.70084052e-02,\n",
       "         3.89296226e-02, -1.85047444e-02,  1.28158256e-02,  5.08825518e-02,\n",
       "         5.90904243e-02, -2.80200485e-02, -2.61123907e-02,  1.38950543e-02,\n",
       "        -8.42207298e-02,  4.61878181e-02,  9.54542384e-02,  9.13566798e-02,\n",
       "         3.66166607e-02, -1.22141302e-01, -6.74068183e-03,  3.83032598e-02,\n",
       "         6.92622140e-02,  3.37867625e-02, -1.08448938e-02,  3.68633531e-02,\n",
       "        -6.83336556e-02, -1.46334770e-03,  7.87290931e-02, -4.56032194e-02,\n",
       "         5.62611856e-02, -6.09844960e-02, -6.37136213e-03, -3.59710976e-02,\n",
       "         1.11930836e-02, -1.59160513e-02,  2.39705183e-02, -1.29518500e-02,\n",
       "         3.97074968e-02, -9.71163362e-02,  8.17084610e-02, -8.07550773e-02,\n",
       "        -4.64331582e-02,  2.75183171e-02,  5.21475002e-02, -3.69082466e-02,\n",
       "         8.19966421e-02, -1.19168628e-02, -3.03949248e-02, -3.97210531e-02,\n",
       "        -1.05464175e-01,  3.60772072e-04, -5.65573797e-02, -3.78037691e-02,\n",
       "        -6.75403997e-02, -7.65897473e-03,  2.42993291e-02, -5.88602349e-02,\n",
       "        -1.25352116e-02, -5.44982068e-02,  3.28722484e-02, -2.72166561e-02,\n",
       "        -2.07000971e-02,  1.93906091e-02,  2.86664478e-02, -1.12360932e-01,\n",
       "         2.15169019e-03, -1.72829852e-02, -5.20425104e-02,  1.01107046e-01,\n",
       "        -2.03000009e-02, -5.34593649e-02, -3.96867283e-02, -4.37290743e-02,\n",
       "        -7.48127699e-02,  1.14505298e-01, -3.35649177e-02,  4.71480526e-02,\n",
       "         7.26261362e-02, -5.38497828e-02, -1.61264110e-02,  2.50520017e-02,\n",
       "         1.40675947e-01,  1.12578869e-01,  2.94510219e-02,  6.38999492e-02,\n",
       "        -7.71704167e-02,  1.79305971e-02,  4.12846059e-02,  3.28159034e-02,\n",
       "         2.94607189e-02,  5.99460229e-02,  1.69357117e-02, -2.82111132e-33,\n",
       "        -3.18083949e-02, -4.89542075e-02,  8.37064255e-03, -6.38124347e-02,\n",
       "         1.57744698e-02, -2.85787880e-03,  3.90049033e-02,  2.06431001e-02,\n",
       "         1.61510445e-02,  9.52981040e-02,  1.76341310e-02,  2.88697463e-02,\n",
       "        -9.24950987e-02,  2.91221831e-02, -1.18738368e-01,  7.85845369e-02,\n",
       "        -3.57304290e-02,  1.93791967e-02, -4.02952097e-02, -3.29145370e-03,\n",
       "        -4.11954075e-02,  9.19916481e-02, -7.28477165e-03,  3.12644360e-03,\n",
       "         1.79338660e-02,  3.16627622e-02,  8.35819263e-03,  2.20735818e-02,\n",
       "         2.61419825e-02,  2.54945699e-02,  1.15472907e-02, -6.75427318e-02,\n",
       "        -1.64000332e-01,  5.86243570e-02,  3.11724916e-02, -6.38689846e-02,\n",
       "        -3.37865180e-03, -8.42448995e-02, -6.09957017e-02,  8.32158253e-02,\n",
       "         4.27678879e-03,  1.40998687e-03,  1.12242708e-02, -6.10681362e-02,\n",
       "         3.64928357e-02,  3.52429934e-02, -1.29308030e-02, -4.96295393e-02,\n",
       "        -4.76295762e-02,  5.55355586e-02,  1.14451542e-01,  2.23923530e-02,\n",
       "         8.61671269e-02,  5.89683540e-02,  1.02971019e-02, -2.94316001e-02,\n",
       "         6.39770851e-02, -1.00112565e-01, -1.84458420e-02, -3.67377698e-02,\n",
       "        -6.80611804e-02,  3.34270224e-02,  2.64616893e-03,  7.84567222e-02,\n",
       "         3.05504296e-02, -2.71201087e-03,  5.65134250e-02, -3.67659889e-03,\n",
       "        -5.21841794e-02, -1.62631106e-02, -1.03827693e-01, -5.94667234e-02,\n",
       "        -4.99512553e-02, -7.33722374e-02,  6.68326719e-03, -3.60459462e-02,\n",
       "         2.61289440e-02, -2.19187215e-02, -6.34582117e-02, -2.83009140e-04,\n",
       "         7.67397741e-03, -4.54591326e-02,  4.43047248e-02, -6.53549656e-02,\n",
       "         9.45358071e-03,  5.33758756e-03,  8.08292418e-04,  3.07809301e-02,\n",
       "         6.76738322e-02, -4.29741144e-02, -1.22376084e-01,  7.67606962e-03,\n",
       "        -3.69649269e-02, -1.48536498e-02,  5.84277231e-03, -2.63687352e-33,\n",
       "         1.57971457e-02,  1.17811374e-02,  2.92724390e-02,  5.01138950e-03,\n",
       "        -3.81258465e-02, -2.59880032e-02, -1.57222524e-01,  3.81351300e-02,\n",
       "        -3.66127230e-02, -6.19971156e-02, -3.91224325e-02,  3.67748458e-03,\n",
       "         2.23210715e-02, -5.28440289e-02,  5.72129786e-02, -1.18428255e-02,\n",
       "        -1.51544837e-02,  2.65028123e-02,  6.20206296e-02, -9.03277621e-02,\n",
       "         1.47285368e-02,  2.50327848e-02,  1.99465603e-02, -7.22670108e-02,\n",
       "         2.79748924e-02,  5.30384034e-02,  7.30056912e-02,  5.46456762e-02,\n",
       "         2.83201989e-02, -4.38055769e-02,  4.47058529e-02, -7.08042271e-03,\n",
       "         7.83622116e-02, -9.60151851e-03,  2.09987294e-02, -5.58600761e-02,\n",
       "         3.30404490e-02,  3.19623835e-02,  2.36441568e-02,  9.16633531e-02,\n",
       "         9.60873067e-03,  6.39609322e-02,  3.60169709e-02,  5.29588610e-02,\n",
       "        -1.04540564e-01, -4.94316630e-02, -3.72159444e-02, -6.21375144e-02,\n",
       "         6.33930787e-02, -4.24431935e-02,  1.19586047e-02, -2.67843790e-02,\n",
       "         5.73882125e-02,  1.03098678e-03, -5.49614690e-02, -6.95810467e-02,\n",
       "         1.97760221e-02, -4.25372384e-02, -2.50543263e-02,  3.05757225e-02,\n",
       "         7.03922138e-02, -4.53994758e-02, -2.95554809e-02, -4.85728830e-02],\n",
       "       dtype=float32),\n",
       " 'question_text_vector': array([-3.11821066e-02, -5.54790068e-03,  4.84343898e-03, -3.51262242e-02,\n",
       "         4.20915931e-02,  8.50996301e-02, -4.18288028e-03,  2.46330984e-02,\n",
       "        -1.91098228e-02, -2.03491431e-02, -5.00856936e-02, -1.78677905e-02,\n",
       "         2.33090296e-02, -9.84727815e-02,  5.59331663e-02,  2.54799053e-02,\n",
       "        -2.29453128e-02,  8.04025680e-02, -6.22040071e-02, -1.24057159e-02,\n",
       "        -6.55848458e-02, -2.02771779e-02, -5.34759685e-02,  7.54021332e-02,\n",
       "         1.23054720e-02,  4.13684808e-02, -4.72135982e-03,  4.66518067e-02,\n",
       "        -3.17351222e-02, -2.83784736e-02,  7.77046056e-03, -6.11119419e-02,\n",
       "        -1.07136730e-03, -3.97802480e-02,  2.36750152e-02, -2.11533848e-02,\n",
       "        -8.88629705e-02,  4.00805213e-02,  2.36900076e-02,  3.31162214e-02,\n",
       "        -7.94152636e-03, -5.18300645e-02, -2.28330493e-02,  5.77201545e-02,\n",
       "         2.38715913e-02, -4.68301550e-02, -4.86983582e-02, -5.77241939e-04,\n",
       "        -2.28939392e-02,  9.72779915e-02,  4.61750589e-02,  1.24701997e-02,\n",
       "         4.70073108e-04, -4.97325417e-03, -2.02947501e-02,  4.43976484e-02,\n",
       "         6.99449629e-02,  1.11404054e-01, -9.04581398e-02,  2.27086209e-02,\n",
       "         1.21184168e-02, -1.03938123e-02,  4.72449921e-02,  3.36405598e-02,\n",
       "        -5.93809970e-02,  5.64204808e-03,  2.62930300e-02,  5.06123938e-02,\n",
       "        -2.47404110e-02, -1.02420062e-01, -6.16711639e-02, -8.20140168e-02,\n",
       "        -2.77257524e-02, -2.38641389e-02,  1.76442275e-03,  2.13596616e-02,\n",
       "         3.26454430e-03,  3.32506411e-02, -1.61452946e-04,  8.72287378e-02,\n",
       "        -9.80934035e-03,  4.34400700e-02, -4.00700383e-02, -3.11731976e-02,\n",
       "         7.43943453e-02,  1.45359775e-02,  8.05399790e-02, -3.28969322e-02,\n",
       "         1.02133960e-01, -3.21323983e-03,  4.50356528e-02,  2.36002151e-02,\n",
       "         4.70138527e-02, -5.09021282e-02, -1.53367728e-04, -1.02348298e-01,\n",
       "        -9.06674750e-03, -1.20270457e-02, -2.84191053e-02,  1.50447413e-02,\n",
       "         2.41735019e-02,  2.55602282e-02, -1.78870047e-03,  1.62892248e-02,\n",
       "         2.32300069e-03, -2.67277416e-02,  1.09414477e-02,  9.43899676e-02,\n",
       "         1.06485911e-01, -1.39031764e-02,  3.97018977e-02, -4.85439375e-02,\n",
       "        -8.59197695e-03, -8.49443600e-02, -7.37760067e-02, -3.40540223e-02,\n",
       "        -8.18515420e-02, -4.22427617e-03,  4.03264016e-02, -5.78222796e-02,\n",
       "         1.07558712e-01,  3.37472633e-02, -2.06129812e-02, -2.55400185e-02,\n",
       "        -8.31731781e-02, -4.06586863e-02,  3.26903351e-02,  2.67198024e-31,\n",
       "         4.03491259e-02,  6.39480054e-02,  4.92465235e-02,  2.43398976e-02,\n",
       "        -3.23963761e-02, -3.90658602e-02,  2.16391366e-02,  6.51657302e-03,\n",
       "         3.31487432e-02, -1.61234289e-02,  3.93194333e-02,  2.11133417e-02,\n",
       "         4.66295965e-02, -6.90772478e-03, -4.74493094e-02,  2.39707120e-02,\n",
       "        -7.61035979e-02, -5.02260076e-03,  9.12137628e-02,  7.93284252e-02,\n",
       "         4.19752486e-02, -9.65249464e-02, -6.30697655e-03,  3.36703025e-02,\n",
       "         5.63040860e-02,  5.04171252e-02, -1.89856924e-02,  3.67992409e-02,\n",
       "        -8.88324827e-02, -4.43161372e-03,  1.03113778e-01, -4.30411771e-02,\n",
       "         6.57885000e-02, -7.25678802e-02,  3.19069438e-03, -7.88491815e-02,\n",
       "         1.03316046e-02, -2.01916713e-02,  2.50603966e-02, -2.67323051e-02,\n",
       "         7.43929446e-02, -1.40417904e-01,  9.10427421e-02, -7.17936829e-02,\n",
       "        -4.54917736e-03,  3.81058306e-02,  1.77709386e-02,  3.05453106e-03,\n",
       "         6.37960136e-02, -4.91335727e-02, -1.37136644e-02, -2.72467155e-02,\n",
       "        -1.18612781e-01, -2.26494437e-03, -4.96757515e-02, -3.41951549e-02,\n",
       "        -5.83771802e-02, -3.71345021e-02,  2.79604411e-03, -3.50486636e-02,\n",
       "        -1.99717153e-02, -6.35871887e-02,  2.94006150e-02, -5.28739020e-02,\n",
       "         4.35646903e-03,  1.95388813e-02,  3.37441303e-02, -1.00708976e-01,\n",
       "         1.98474564e-02, -1.86665542e-02, -4.28998135e-02,  8.49111676e-02,\n",
       "        -1.03024002e-02, -1.54245310e-02, -3.52914259e-02, -3.62570919e-02,\n",
       "        -5.00833392e-02,  8.78357813e-02, -5.89135922e-02,  4.03517745e-02,\n",
       "         6.52170330e-02, -4.09301221e-02, -1.81950610e-02,  2.67109666e-02,\n",
       "         1.11078009e-01,  1.23381138e-01,  2.03612372e-02,  9.75311697e-02,\n",
       "        -5.07401228e-02,  3.93603519e-02,  5.50629906e-02,  2.56716833e-02,\n",
       "         3.01701128e-02,  4.40398790e-02,  8.80792364e-03, -2.96531068e-33,\n",
       "        -1.35162631e-02, -1.73825677e-02, -1.53330052e-02, -6.29695728e-02,\n",
       "         6.40370557e-03,  9.62115359e-03,  4.17843424e-02,  1.54211710e-03,\n",
       "        -1.72082381e-03,  1.03808470e-01,  3.09222052e-03,  6.03052936e-02,\n",
       "        -9.35646743e-02,  6.74136728e-03, -1.23127677e-01,  8.81424993e-02,\n",
       "        -5.78942597e-02,  2.98577324e-02, -4.01423052e-02, -7.72994524e-03,\n",
       "        -3.61072533e-02,  1.99712273e-02, -1.77012812e-02, -2.72773281e-02,\n",
       "         1.76967699e-02,  2.51369625e-02,  1.23567414e-02,  3.57403010e-02,\n",
       "         5.00229634e-02,  3.94316316e-02,  1.20644663e-02, -6.91312924e-02,\n",
       "        -1.14680126e-01,  4.11881022e-02,  2.06472632e-02, -5.27317449e-02,\n",
       "         8.34468286e-03, -1.11669473e-01, -5.28905801e-02,  2.10772008e-02,\n",
       "        -1.06767379e-02,  2.17069201e-02,  1.52028929e-02, -5.58695905e-02,\n",
       "         5.17138839e-02,  4.55973074e-02, -4.43938486e-02, -2.08001658e-02,\n",
       "        -7.57180899e-02,  6.67511225e-02,  1.09596178e-01,  3.50942537e-02,\n",
       "         5.36137596e-02,  5.49774691e-02,  2.16301847e-02, -2.99736820e-02,\n",
       "         3.47997993e-02, -8.06229264e-02,  2.65977811e-04, -5.53060770e-02,\n",
       "        -9.98177379e-02,  7.40338489e-02,  3.29630729e-03,  8.71792808e-02,\n",
       "         2.69392859e-02, -8.97897873e-04,  1.80289000e-02, -2.57291049e-02,\n",
       "        -3.38932276e-02, -4.68735136e-02, -1.27397254e-01, -3.36498432e-02,\n",
       "        -4.08230238e-02, -5.12428731e-02,  8.52065161e-03, -5.04791252e-02,\n",
       "        -2.05868084e-04, -3.35651934e-02, -6.39414191e-02,  1.31271556e-02,\n",
       "         2.74137687e-02, -4.08271588e-02,  5.79301789e-02, -9.29678455e-02,\n",
       "         4.72580316e-03,  2.96287611e-02,  5.71754668e-03,  3.53360176e-02,\n",
       "         4.90860865e-02, -6.21030107e-02, -1.29934415e-01, -7.55011570e-03,\n",
       "        -8.96962825e-03, -3.45748737e-02,  3.01292613e-02, -2.14163646e-33,\n",
       "         5.47073931e-02,  3.10569350e-02,  3.33263278e-02,  1.23005928e-02,\n",
       "        -1.78263336e-02, -8.35771672e-03, -1.64898559e-01,  1.56309046e-02,\n",
       "        -6.85385009e-03, -7.67192766e-02, -6.39124736e-02,  1.35889864e-02,\n",
       "         2.04908699e-02, -5.82073294e-02,  7.54015744e-02, -3.20911743e-02,\n",
       "        -4.92808558e-02,  6.31272700e-03,  8.25314969e-02, -8.24625418e-02,\n",
       "         1.62854046e-02, -1.53212026e-02,  1.10920547e-02, -5.29752895e-02,\n",
       "         4.12708372e-02,  5.40731363e-02,  6.57069981e-02,  4.92541008e-02,\n",
       "         3.91751043e-02, -4.96901423e-02,  5.06987013e-02, -5.73878596e-03,\n",
       "         6.78797290e-02,  4.24315082e-03,  5.75414002e-02, -4.81463335e-02,\n",
       "         7.18552396e-02,  2.93027833e-02,  4.33610976e-02,  7.86927938e-02,\n",
       "         6.21458609e-03,  4.64501753e-02,  2.76504122e-02,  4.02860343e-02,\n",
       "        -1.23330660e-01, -3.15219089e-02, -2.24804711e-02, -5.25534786e-02,\n",
       "         6.31626397e-02, -4.11002561e-02,  3.09756044e-02, -2.01625749e-02,\n",
       "         5.84040172e-02,  1.35752102e-02, -7.12248087e-02, -8.69510323e-02,\n",
       "        -1.58790417e-03, -3.85852195e-02, -1.43111702e-02,  3.46720852e-02,\n",
       "         5.35001904e-02, -1.05809458e-02, -3.01384497e-02, -5.41550629e-02],\n",
       "       dtype=float32),\n",
       " 'answer_vector': array([-1.73409488e-02, -1.75123813e-03,  1.59607851e-04, -3.46090719e-02,\n",
       "         2.87929773e-02,  8.27935264e-02, -5.85122779e-03,  2.92293541e-03,\n",
       "        -1.88767090e-02, -3.98297384e-02, -2.77719647e-02,  1.31074451e-02,\n",
       "         2.05724332e-02, -1.00280583e-01,  4.02258746e-02,  1.45046478e-02,\n",
       "        -1.74008962e-02,  5.28175719e-02, -1.62793621e-02, -3.17502618e-02,\n",
       "        -6.64883330e-02, -4.93553877e-02, -5.21231778e-02,  3.20231616e-02,\n",
       "         1.87482890e-02,  2.35147495e-03, -2.44161058e-02,  3.73201296e-02,\n",
       "        -2.17742305e-02, -2.11668070e-02,  4.01202962e-02, -2.89366692e-02,\n",
       "        -3.94530222e-03, -2.14583427e-02,  4.13108729e-02, -1.46610737e-02,\n",
       "        -7.78685212e-02,  4.01799791e-02,  6.78856531e-03,  2.41253767e-02,\n",
       "        -1.77956722e-03, -5.09697981e-02, -5.85550517e-02,  4.93932888e-02,\n",
       "         1.65429264e-02, -4.08385321e-02, -4.34076153e-02,  1.27724111e-02,\n",
       "        -1.28343459e-02,  1.17204234e-01,  6.08182624e-02, -2.62920260e-02,\n",
       "         1.03834383e-02,  4.17603459e-03, -1.08053787e-02,  5.48386201e-02,\n",
       "         5.80222197e-02,  9.72104520e-02, -9.79756787e-02,  4.61569056e-02,\n",
       "        -1.15915183e-02, -3.36704515e-02,  7.92785361e-03,  2.45572720e-02,\n",
       "        -4.77181897e-02,  1.54440673e-02,  8.37236736e-03,  2.69056428e-02,\n",
       "        -2.19360106e-02, -1.28466770e-01, -7.90345445e-02, -1.01041652e-01,\n",
       "        -4.83667478e-02, -3.78188565e-02,  2.52383389e-02,  4.07100804e-02,\n",
       "        -1.49643635e-02,  3.93685810e-02, -7.83479679e-03,  4.43531498e-02,\n",
       "        -5.56782493e-03,  4.32492010e-02, -4.18519415e-02, -1.04755433e-02,\n",
       "         8.32547247e-02,  1.51718156e-02,  1.00965083e-01, -1.47297904e-02,\n",
       "         1.36727765e-01,  1.25269787e-02,  4.08325307e-02,  3.94427106e-02,\n",
       "         4.70170118e-02, -5.61651811e-02, -2.46640611e-02, -6.58880994e-02,\n",
       "        -8.39961041e-03, -2.97381207e-02, -3.99437435e-02,  4.41504121e-02,\n",
       "         3.00386250e-02,  2.63154116e-02,  3.72677483e-03, -1.07588340e-02,\n",
       "        -1.92320794e-02, -7.64131965e-03,  2.74534747e-02,  1.02238059e-01,\n",
       "         9.42690447e-02, -1.85835529e-02,  3.66927050e-02, -1.92057695e-02,\n",
       "         3.75430100e-03, -6.71583936e-02, -3.97700369e-02, -1.66714396e-02,\n",
       "        -8.70857760e-02,  3.37864133e-03,  6.13541566e-02, -8.27798098e-02,\n",
       "         1.03936650e-01,  6.52005672e-02,  1.66032638e-03, -8.07586834e-02,\n",
       "        -6.62932917e-02, -4.17560972e-02,  5.55473752e-03,  2.80935533e-31,\n",
       "         2.92472746e-02,  7.64560103e-02,  5.10308184e-02,  2.00642794e-02,\n",
       "        -2.11508460e-02, -2.88950037e-02,  3.62146683e-02,  1.70084052e-02,\n",
       "         3.89296226e-02, -1.85047444e-02,  1.28158256e-02,  5.08825518e-02,\n",
       "         5.90904243e-02, -2.80200485e-02, -2.61123907e-02,  1.38950543e-02,\n",
       "        -8.42207298e-02,  4.61878181e-02,  9.54542384e-02,  9.13566798e-02,\n",
       "         3.66166607e-02, -1.22141302e-01, -6.74068183e-03,  3.83032598e-02,\n",
       "         6.92622140e-02,  3.37867625e-02, -1.08448938e-02,  3.68633531e-02,\n",
       "        -6.83336556e-02, -1.46334770e-03,  7.87290931e-02, -4.56032194e-02,\n",
       "         5.62611856e-02, -6.09844960e-02, -6.37136213e-03, -3.59710976e-02,\n",
       "         1.11930836e-02, -1.59160513e-02,  2.39705183e-02, -1.29518500e-02,\n",
       "         3.97074968e-02, -9.71163362e-02,  8.17084610e-02, -8.07550773e-02,\n",
       "        -4.64331582e-02,  2.75183171e-02,  5.21475002e-02, -3.69082466e-02,\n",
       "         8.19966421e-02, -1.19168628e-02, -3.03949248e-02, -3.97210531e-02,\n",
       "        -1.05464175e-01,  3.60772072e-04, -5.65573797e-02, -3.78037691e-02,\n",
       "        -6.75403997e-02, -7.65897473e-03,  2.42993291e-02, -5.88602349e-02,\n",
       "        -1.25352116e-02, -5.44982068e-02,  3.28722484e-02, -2.72166561e-02,\n",
       "        -2.07000971e-02,  1.93906091e-02,  2.86664478e-02, -1.12360932e-01,\n",
       "         2.15169019e-03, -1.72829852e-02, -5.20425104e-02,  1.01107046e-01,\n",
       "        -2.03000009e-02, -5.34593649e-02, -3.96867283e-02, -4.37290743e-02,\n",
       "        -7.48127699e-02,  1.14505298e-01, -3.35649177e-02,  4.71480526e-02,\n",
       "         7.26261362e-02, -5.38497828e-02, -1.61264110e-02,  2.50520017e-02,\n",
       "         1.40675947e-01,  1.12578869e-01,  2.94510219e-02,  6.38999492e-02,\n",
       "        -7.71704167e-02,  1.79305971e-02,  4.12846059e-02,  3.28159034e-02,\n",
       "         2.94607189e-02,  5.99460229e-02,  1.69357117e-02, -2.82111132e-33,\n",
       "        -3.18083949e-02, -4.89542075e-02,  8.37064255e-03, -6.38124347e-02,\n",
       "         1.57744698e-02, -2.85787880e-03,  3.90049033e-02,  2.06431001e-02,\n",
       "         1.61510445e-02,  9.52981040e-02,  1.76341310e-02,  2.88697463e-02,\n",
       "        -9.24950987e-02,  2.91221831e-02, -1.18738368e-01,  7.85845369e-02,\n",
       "        -3.57304290e-02,  1.93791967e-02, -4.02952097e-02, -3.29145370e-03,\n",
       "        -4.11954075e-02,  9.19916481e-02, -7.28477165e-03,  3.12644360e-03,\n",
       "         1.79338660e-02,  3.16627622e-02,  8.35819263e-03,  2.20735818e-02,\n",
       "         2.61419825e-02,  2.54945699e-02,  1.15472907e-02, -6.75427318e-02,\n",
       "        -1.64000332e-01,  5.86243570e-02,  3.11724916e-02, -6.38689846e-02,\n",
       "        -3.37865180e-03, -8.42448995e-02, -6.09957017e-02,  8.32158253e-02,\n",
       "         4.27678879e-03,  1.40998687e-03,  1.12242708e-02, -6.10681362e-02,\n",
       "         3.64928357e-02,  3.52429934e-02, -1.29308030e-02, -4.96295393e-02,\n",
       "        -4.76295762e-02,  5.55355586e-02,  1.14451542e-01,  2.23923530e-02,\n",
       "         8.61671269e-02,  5.89683540e-02,  1.02971019e-02, -2.94316001e-02,\n",
       "         6.39770851e-02, -1.00112565e-01, -1.84458420e-02, -3.67377698e-02,\n",
       "        -6.80611804e-02,  3.34270224e-02,  2.64616893e-03,  7.84567222e-02,\n",
       "         3.05504296e-02, -2.71201087e-03,  5.65134250e-02, -3.67659889e-03,\n",
       "        -5.21841794e-02, -1.62631106e-02, -1.03827693e-01, -5.94667234e-02,\n",
       "        -4.99512553e-02, -7.33722374e-02,  6.68326719e-03, -3.60459462e-02,\n",
       "         2.61289440e-02, -2.19187215e-02, -6.34582117e-02, -2.83009140e-04,\n",
       "         7.67397741e-03, -4.54591326e-02,  4.43047248e-02, -6.53549656e-02,\n",
       "         9.45358071e-03,  5.33758756e-03,  8.08292418e-04,  3.07809301e-02,\n",
       "         6.76738322e-02, -4.29741144e-02, -1.22376084e-01,  7.67606962e-03,\n",
       "        -3.69649269e-02, -1.48536498e-02,  5.84277231e-03, -2.63687352e-33,\n",
       "         1.57971457e-02,  1.17811374e-02,  2.92724390e-02,  5.01138950e-03,\n",
       "        -3.81258465e-02, -2.59880032e-02, -1.57222524e-01,  3.81351300e-02,\n",
       "        -3.66127230e-02, -6.19971156e-02, -3.91224325e-02,  3.67748458e-03,\n",
       "         2.23210715e-02, -5.28440289e-02,  5.72129786e-02, -1.18428255e-02,\n",
       "        -1.51544837e-02,  2.65028123e-02,  6.20206296e-02, -9.03277621e-02,\n",
       "         1.47285368e-02,  2.50327848e-02,  1.99465603e-02, -7.22670108e-02,\n",
       "         2.79748924e-02,  5.30384034e-02,  7.30056912e-02,  5.46456762e-02,\n",
       "         2.83201989e-02, -4.38055769e-02,  4.47058529e-02, -7.08042271e-03,\n",
       "         7.83622116e-02, -9.60151851e-03,  2.09987294e-02, -5.58600761e-02,\n",
       "         3.30404490e-02,  3.19623835e-02,  2.36441568e-02,  9.16633531e-02,\n",
       "         9.60873067e-03,  6.39609322e-02,  3.60169709e-02,  5.29588610e-02,\n",
       "        -1.04540564e-01, -4.94316630e-02, -3.72159444e-02, -6.21375144e-02,\n",
       "         6.33930787e-02, -4.24431935e-02,  1.19586047e-02, -2.67843790e-02,\n",
       "         5.73882125e-02,  1.03098678e-03, -5.49614690e-02, -6.95810467e-02,\n",
       "         1.97760221e-02, -4.25372384e-02, -2.50543263e-02,  3.05757225e-02,\n",
       "         7.03922138e-02, -4.53994758e-02, -2.95554809e-02, -4.85728830e-02],\n",
       "       dtype=float32),\n",
       " 'question_answer_vector': array([-3.11821066e-02, -5.54790068e-03,  4.84343898e-03, -3.51262242e-02,\n",
       "         4.20915931e-02,  8.50996301e-02, -4.18288028e-03,  2.46330984e-02,\n",
       "        -1.91098228e-02, -2.03491431e-02, -5.00856936e-02, -1.78677905e-02,\n",
       "         2.33090296e-02, -9.84727815e-02,  5.59331663e-02,  2.54799053e-02,\n",
       "        -2.29453128e-02,  8.04025680e-02, -6.22040071e-02, -1.24057159e-02,\n",
       "        -6.55848458e-02, -2.02771779e-02, -5.34759685e-02,  7.54021332e-02,\n",
       "         1.23054720e-02,  4.13684808e-02, -4.72135982e-03,  4.66518067e-02,\n",
       "        -3.17351222e-02, -2.83784736e-02,  7.77046056e-03, -6.11119419e-02,\n",
       "        -1.07136730e-03, -3.97802480e-02,  2.36750152e-02, -2.11533848e-02,\n",
       "        -8.88629705e-02,  4.00805213e-02,  2.36900076e-02,  3.31162214e-02,\n",
       "        -7.94152636e-03, -5.18300645e-02, -2.28330493e-02,  5.77201545e-02,\n",
       "         2.38715913e-02, -4.68301550e-02, -4.86983582e-02, -5.77241939e-04,\n",
       "        -2.28939392e-02,  9.72779915e-02,  4.61750589e-02,  1.24701997e-02,\n",
       "         4.70073108e-04, -4.97325417e-03, -2.02947501e-02,  4.43976484e-02,\n",
       "         6.99449629e-02,  1.11404054e-01, -9.04581398e-02,  2.27086209e-02,\n",
       "         1.21184168e-02, -1.03938123e-02,  4.72449921e-02,  3.36405598e-02,\n",
       "        -5.93809970e-02,  5.64204808e-03,  2.62930300e-02,  5.06123938e-02,\n",
       "        -2.47404110e-02, -1.02420062e-01, -6.16711639e-02, -8.20140168e-02,\n",
       "        -2.77257524e-02, -2.38641389e-02,  1.76442275e-03,  2.13596616e-02,\n",
       "         3.26454430e-03,  3.32506411e-02, -1.61452946e-04,  8.72287378e-02,\n",
       "        -9.80934035e-03,  4.34400700e-02, -4.00700383e-02, -3.11731976e-02,\n",
       "         7.43943453e-02,  1.45359775e-02,  8.05399790e-02, -3.28969322e-02,\n",
       "         1.02133960e-01, -3.21323983e-03,  4.50356528e-02,  2.36002151e-02,\n",
       "         4.70138527e-02, -5.09021282e-02, -1.53367728e-04, -1.02348298e-01,\n",
       "        -9.06674750e-03, -1.20270457e-02, -2.84191053e-02,  1.50447413e-02,\n",
       "         2.41735019e-02,  2.55602282e-02, -1.78870047e-03,  1.62892248e-02,\n",
       "         2.32300069e-03, -2.67277416e-02,  1.09414477e-02,  9.43899676e-02,\n",
       "         1.06485911e-01, -1.39031764e-02,  3.97018977e-02, -4.85439375e-02,\n",
       "        -8.59197695e-03, -8.49443600e-02, -7.37760067e-02, -3.40540223e-02,\n",
       "        -8.18515420e-02, -4.22427617e-03,  4.03264016e-02, -5.78222796e-02,\n",
       "         1.07558712e-01,  3.37472633e-02, -2.06129812e-02, -2.55400185e-02,\n",
       "        -8.31731781e-02, -4.06586863e-02,  3.26903351e-02,  2.67198024e-31,\n",
       "         4.03491259e-02,  6.39480054e-02,  4.92465235e-02,  2.43398976e-02,\n",
       "        -3.23963761e-02, -3.90658602e-02,  2.16391366e-02,  6.51657302e-03,\n",
       "         3.31487432e-02, -1.61234289e-02,  3.93194333e-02,  2.11133417e-02,\n",
       "         4.66295965e-02, -6.90772478e-03, -4.74493094e-02,  2.39707120e-02,\n",
       "        -7.61035979e-02, -5.02260076e-03,  9.12137628e-02,  7.93284252e-02,\n",
       "         4.19752486e-02, -9.65249464e-02, -6.30697655e-03,  3.36703025e-02,\n",
       "         5.63040860e-02,  5.04171252e-02, -1.89856924e-02,  3.67992409e-02,\n",
       "        -8.88324827e-02, -4.43161372e-03,  1.03113778e-01, -4.30411771e-02,\n",
       "         6.57885000e-02, -7.25678802e-02,  3.19069438e-03, -7.88491815e-02,\n",
       "         1.03316046e-02, -2.01916713e-02,  2.50603966e-02, -2.67323051e-02,\n",
       "         7.43929446e-02, -1.40417904e-01,  9.10427421e-02, -7.17936829e-02,\n",
       "        -4.54917736e-03,  3.81058306e-02,  1.77709386e-02,  3.05453106e-03,\n",
       "         6.37960136e-02, -4.91335727e-02, -1.37136644e-02, -2.72467155e-02,\n",
       "        -1.18612781e-01, -2.26494437e-03, -4.96757515e-02, -3.41951549e-02,\n",
       "        -5.83771802e-02, -3.71345021e-02,  2.79604411e-03, -3.50486636e-02,\n",
       "        -1.99717153e-02, -6.35871887e-02,  2.94006150e-02, -5.28739020e-02,\n",
       "         4.35646903e-03,  1.95388813e-02,  3.37441303e-02, -1.00708976e-01,\n",
       "         1.98474564e-02, -1.86665542e-02, -4.28998135e-02,  8.49111676e-02,\n",
       "        -1.03024002e-02, -1.54245310e-02, -3.52914259e-02, -3.62570919e-02,\n",
       "        -5.00833392e-02,  8.78357813e-02, -5.89135922e-02,  4.03517745e-02,\n",
       "         6.52170330e-02, -4.09301221e-02, -1.81950610e-02,  2.67109666e-02,\n",
       "         1.11078009e-01,  1.23381138e-01,  2.03612372e-02,  9.75311697e-02,\n",
       "        -5.07401228e-02,  3.93603519e-02,  5.50629906e-02,  2.56716833e-02,\n",
       "         3.01701128e-02,  4.40398790e-02,  8.80792364e-03, -2.96531068e-33,\n",
       "        -1.35162631e-02, -1.73825677e-02, -1.53330052e-02, -6.29695728e-02,\n",
       "         6.40370557e-03,  9.62115359e-03,  4.17843424e-02,  1.54211710e-03,\n",
       "        -1.72082381e-03,  1.03808470e-01,  3.09222052e-03,  6.03052936e-02,\n",
       "        -9.35646743e-02,  6.74136728e-03, -1.23127677e-01,  8.81424993e-02,\n",
       "        -5.78942597e-02,  2.98577324e-02, -4.01423052e-02, -7.72994524e-03,\n",
       "        -3.61072533e-02,  1.99712273e-02, -1.77012812e-02, -2.72773281e-02,\n",
       "         1.76967699e-02,  2.51369625e-02,  1.23567414e-02,  3.57403010e-02,\n",
       "         5.00229634e-02,  3.94316316e-02,  1.20644663e-02, -6.91312924e-02,\n",
       "        -1.14680126e-01,  4.11881022e-02,  2.06472632e-02, -5.27317449e-02,\n",
       "         8.34468286e-03, -1.11669473e-01, -5.28905801e-02,  2.10772008e-02,\n",
       "        -1.06767379e-02,  2.17069201e-02,  1.52028929e-02, -5.58695905e-02,\n",
       "         5.17138839e-02,  4.55973074e-02, -4.43938486e-02, -2.08001658e-02,\n",
       "        -7.57180899e-02,  6.67511225e-02,  1.09596178e-01,  3.50942537e-02,\n",
       "         5.36137596e-02,  5.49774691e-02,  2.16301847e-02, -2.99736820e-02,\n",
       "         3.47997993e-02, -8.06229264e-02,  2.65977811e-04, -5.53060770e-02,\n",
       "        -9.98177379e-02,  7.40338489e-02,  3.29630729e-03,  8.71792808e-02,\n",
       "         2.69392859e-02, -8.97897873e-04,  1.80289000e-02, -2.57291049e-02,\n",
       "        -3.38932276e-02, -4.68735136e-02, -1.27397254e-01, -3.36498432e-02,\n",
       "        -4.08230238e-02, -5.12428731e-02,  8.52065161e-03, -5.04791252e-02,\n",
       "        -2.05868084e-04, -3.35651934e-02, -6.39414191e-02,  1.31271556e-02,\n",
       "         2.74137687e-02, -4.08271588e-02,  5.79301789e-02, -9.29678455e-02,\n",
       "         4.72580316e-03,  2.96287611e-02,  5.71754668e-03,  3.53360176e-02,\n",
       "         4.90860865e-02, -6.21030107e-02, -1.29934415e-01, -7.55011570e-03,\n",
       "        -8.96962825e-03, -3.45748737e-02,  3.01292613e-02, -2.14163646e-33,\n",
       "         5.47073931e-02,  3.10569350e-02,  3.33263278e-02,  1.23005928e-02,\n",
       "        -1.78263336e-02, -8.35771672e-03, -1.64898559e-01,  1.56309046e-02,\n",
       "        -6.85385009e-03, -7.67192766e-02, -6.39124736e-02,  1.35889864e-02,\n",
       "         2.04908699e-02, -5.82073294e-02,  7.54015744e-02, -3.20911743e-02,\n",
       "        -4.92808558e-02,  6.31272700e-03,  8.25314969e-02, -8.24625418e-02,\n",
       "         1.62854046e-02, -1.53212026e-02,  1.10920547e-02, -5.29752895e-02,\n",
       "         4.12708372e-02,  5.40731363e-02,  6.57069981e-02,  4.92541008e-02,\n",
       "         3.91751043e-02, -4.96901423e-02,  5.06987013e-02, -5.73878596e-03,\n",
       "         6.78797290e-02,  4.24315082e-03,  5.75414002e-02, -4.81463335e-02,\n",
       "         7.18552396e-02,  2.93027833e-02,  4.33610976e-02,  7.86927938e-02,\n",
       "         6.21458609e-03,  4.64501753e-02,  2.76504122e-02,  4.02860343e-02,\n",
       "        -1.23330660e-01, -3.15219089e-02, -2.24804711e-02, -5.25534786e-02,\n",
       "         6.31626397e-02, -4.11002561e-02,  3.09756044e-02, -2.01625749e-02,\n",
       "         5.84040172e-02,  1.35752102e-02, -7.12248087e-02, -8.69510323e-02,\n",
       "        -1.58790417e-03, -3.85852195e-02, -1.43111702e-02,  3.46720852e-02,\n",
       "         5.35001904e-02, -1.05809458e-02, -3.01384497e-02, -5.41550629e-02],\n",
       "       dtype=float32)}"
      ]
     },
     "execution_count": 86,
     "metadata": {},
     "output_type": "execute_result"
    }
   ],
   "source": [
    "documents[0]"
   ]
  },
  {
   "cell_type": "code",
   "execution_count": 87,
   "id": "a1af80b4-9d92-4e90-926c-71f14c58155d",
   "metadata": {},
   "outputs": [
    {
     "data": {
      "application/vnd.jupyter.widget-view+json": {
       "model_id": "097f2d1b4f4e49e9ba060bdfa6e1e6d8",
       "version_major": 2,
       "version_minor": 0
      },
      "text/plain": [
       "  0%|          | 0/425 [00:00<?, ?it/s]"
      ]
     },
     "metadata": {},
     "output_type": "display_data"
    }
   ],
   "source": [
    "for doc in tqdm(documents):\n",
    "    question = doc['Question']\n",
    "    answer = doc['Answer']\n",
    "    qt = question + ' ' + answer\n",
    "\n",
    "    doc['question_vector'] = model.encode(question)\n",
    "    doc['answer_vector'] = model.encode(answer)\n",
    "    doc['question_answer_vector'] = model.encode(qt)"
   ]
  },
  {
   "cell_type": "code",
   "execution_count": 88,
   "id": "a6b07999-b0b8-46da-8a9d-0bfe6fb0e524",
   "metadata": {},
   "outputs": [
    {
     "data": {
      "application/vnd.jupyter.widget-view+json": {
       "model_id": "3543df151ae14b398d86491f607a14ad",
       "version_major": 2,
       "version_minor": 0
      },
      "text/plain": [
       "  0%|          | 0/425 [00:00<?, ?it/s]"
      ]
     },
     "metadata": {},
     "output_type": "display_data"
    }
   ],
   "source": [
    "for doc in tqdm(documents):\n",
    "    es_client.index(index=index_name, document=doc)"
   ]
  },
  {
   "cell_type": "code",
   "execution_count": 89,
   "id": "fe6c41e4-d47f-4f9d-bc7e-513e30a3b930",
   "metadata": {},
   "outputs": [],
   "source": [
    "query = \"Can I get sick pay if I'm self-isolating?\"\n",
    "v_q = model.encode(query)"
   ]
  },
  {
   "cell_type": "code",
   "execution_count": 90,
   "id": "51ef9c88-b61a-41c7-a0e0-9648ff193bb8",
   "metadata": {},
   "outputs": [],
   "source": [
    "def elastic_search_knn(field, vector, section):\n",
    "    knn = {\n",
    "        \"field\": field,\n",
    "        \"query_vector\": vector,\n",
    "        \"k\": 5,\n",
    "        \"num_candidates\": 10000,\n",
    "        \"filter\": {\n",
    "            \"term\": {\n",
    "                \"Section\": section\n",
    "            }\n",
    "        }\n",
    "    }\n",
    "\n",
    "    search_query = {\n",
    "        \"knn\": knn,\n",
    "        \"_source\": [\"Answer\", \"Section\", \"Question\", \"Category\", \"id\"]\n",
    "    }\n",
    "\n",
    "    es_results = es_client.search(\n",
    "        index=index_name,\n",
    "        body=search_query\n",
    "    )\n",
    "    \n",
    "    result_docs = []\n",
    "    \n",
    "    for hit in es_results['hits']['hits']:\n",
    "        result_docs.append(hit['_source'])\n",
    "\n",
    "    return result_docs"
   ]
  },
  {
   "cell_type": "code",
   "execution_count": 97,
   "id": "aa6b279f-54f0-40a8-8bf2-5ebc0b7d4070",
   "metadata": {},
   "outputs": [
    {
     "data": {
      "text/plain": [
       "[{'Answer': \"Yes Statutory Sick Pay is available if you're self-isolating.\",\n",
       "  'Category': 'Temporarily unable to work',\n",
       "  'Question': \"Can I get sick pay if I'm self-isolating?\",\n",
       "  'id': '1de35e0b-f233-554c-84ef-fc30494e0ea0',\n",
       "  'Section': 'general claim benefits'},\n",
       " {'Answer': 'You need to provide a fit note from your doctor to apply for sick pay.',\n",
       "  'Category': 'Temporarily unable to work',\n",
       "  'Question': 'How do I apply for sick pay?',\n",
       "  'id': 'ecc42084-d88e-5bf0-8070-a18552c283bb',\n",
       "  'Section': 'general claim benefits'},\n",
       " {'Answer': \"Statutory Sick Pay is a legal requirement for employers to pay you if you're ill.\",\n",
       "  'Category': 'Temporarily unable to work',\n",
       "  'Question': 'What is statutory sick pay?',\n",
       "  'id': 'ee6a77ec-d4ef-50f7-9762-04cc228b3a48',\n",
       "  'Section': 'general claim benefits'},\n",
       " {'Answer': 'You may be eligible for certain benefits even if you’re working depending on your income and circumstances.',\n",
       "  'Category': 'Manage existing benefit',\n",
       "  'Question': 'Can I receive benefits if I’m working?',\n",
       "  'id': '2c2bcc32-e587-56a9-9e2f-03fcba137c16',\n",
       "  'Section': 'general claim benefits'},\n",
       " {'Answer': 'You may be able to claim ESA or another benefit if you’re still unable to work after your SSP ends.',\n",
       "  'Category': 'Temporarily unable to work',\n",
       "  'Question': 'What happens if I’m still sick after SSP ends?',\n",
       "  'id': '65c4c178-022d-505b-82af-2794fe166d32',\n",
       "  'Section': 'general claim benefits'}]"
      ]
     },
     "execution_count": 97,
     "metadata": {},
     "output_type": "execute_result"
    }
   ],
   "source": [
    "elastic_search_knn('question_vector', v_q, 'general claim benefits')"
   ]
  },
  {
   "cell_type": "code",
   "execution_count": 98,
   "id": "2b93df00-d529-42ec-97b4-9f3415c4c687",
   "metadata": {},
   "outputs": [
    {
     "data": {
      "text/plain": [
       "{'question': 'Is it possible to appeal?',\n",
       " 'claims_type': 'general claim benefits',\n",
       " 'document': '8d000ade-6c2b-571c-aa61-5d38eb463cf8'}"
      ]
     },
     "execution_count": 98,
     "metadata": {},
     "output_type": "execute_result"
    }
   ],
   "source": [
    "ground_truth[10]"
   ]
  },
  {
   "cell_type": "code",
   "execution_count": 99,
   "id": "46ed157a-7636-437a-927e-39704395d78c",
   "metadata": {},
   "outputs": [],
   "source": [
    "def question_vector_knn(q):\n",
    "    question = q['question']\n",
    "    section = q['claims_type']\n",
    "\n",
    "    v_q = model.encode(question)\n",
    "\n",
    "    return elastic_search_knn('question_vector', v_q, section)"
   ]
  },
  {
   "cell_type": "code",
   "execution_count": 100,
   "id": "24501653-1fd6-4371-aee7-c3c56f256e2b",
   "metadata": {},
   "outputs": [],
   "source": [
    "def hit_rate(relevance_total):\n",
    "    cnt = 0\n",
    "\n",
    "    for line in relevance_total:\n",
    "        if True in line:\n",
    "            cnt = cnt + 1\n",
    "\n",
    "    return cnt / len(relevance_total)"
   ]
  },
  {
   "cell_type": "code",
   "execution_count": 101,
   "id": "f7f122f9-5e90-4a28-98b9-c4ff0eef02d1",
   "metadata": {},
   "outputs": [],
   "source": [
    "def mrr(relevance_total):\n",
    "    total_score = 0.0\n",
    "\n",
    "    for line in relevance_total:\n",
    "        for rank in range(len(line)):\n",
    "            if line[rank] == True:\n",
    "                total_score = total_score + 1 / (rank + 1)\n",
    "\n",
    "    return total_score / len(relevance_total)"
   ]
  },
  {
   "cell_type": "code",
   "execution_count": 102,
   "id": "3b9674d9-31e9-453a-bae7-3684125a17fc",
   "metadata": {},
   "outputs": [],
   "source": [
    "def evaluate(ground_truth, search_function):\n",
    "    relevance_total = []\n",
    "\n",
    "    for q in tqdm(ground_truth):\n",
    "        doc_id = q['document']\n",
    "        results = search_function(q)\n",
    "        relevance = [d['id'] == doc_id for d in results]\n",
    "        relevance_total.append(relevance)\n",
    "\n",
    "    return {\n",
    "        'hit_rate': hit_rate(relevance_total),\n",
    "        'mrr': mrr(relevance_total),\n",
    "    }"
   ]
  },
  {
   "cell_type": "code",
   "execution_count": 103,
   "id": "bc8718a3-9b3c-4d9c-90a2-ea000b3e5368",
   "metadata": {},
   "outputs": [
    {
     "data": {
      "application/vnd.jupyter.widget-view+json": {
       "model_id": "1178e0ae529547d9a2d5afa8ab63c175",
       "version_major": 2,
       "version_minor": 0
      },
      "text/plain": [
       "  0%|          | 0/2055 [00:00<?, ?it/s]"
      ]
     },
     "metadata": {},
     "output_type": "display_data"
    },
    {
     "data": {
      "text/plain": [
       "{'hit_rate': 0.8637469586374696, 'mrr': 0.7441443633414435}"
      ]
     },
     "execution_count": 103,
     "metadata": {},
     "output_type": "execute_result"
    }
   ],
   "source": [
    "evaluate(ground_truth, question_vector_knn)"
   ]
  },
  {
   "cell_type": "markdown",
   "id": "b003f67c-8cad-4230-802e-0fa559fd60cd",
   "metadata": {},
   "source": [
    "Compared to Minsearch: {'hit_rate': 0.8306569343065694, 'mrr': 0.6697891321978915}"
   ]
  },
  {
   "cell_type": "markdown",
   "id": "12fe0d6f-3b3d-428d-84d3-60e26abf9f07",
   "metadata": {},
   "source": [
    "Compared to Elasticsearch Text only: {'hit_rate': 0.7732360097323601, 'mrr':0.6168369829683708}"
   ]
  },
  {
   "cell_type": "code",
   "execution_count": 106,
   "id": "7252ca4d-6221-4c72-bf87-18e4d9d7c41f",
   "metadata": {},
   "outputs": [
    {
     "data": {
      "application/vnd.jupyter.widget-view+json": {
       "model_id": "78e4259d66fc41848a23e2d25241d56c",
       "version_major": 2,
       "version_minor": 0
      },
      "text/plain": [
       "  0%|          | 0/2055 [00:00<?, ?it/s]"
      ]
     },
     "metadata": {},
     "output_type": "display_data"
    },
    {
     "data": {
      "text/plain": [
       "{'hit_rate': 0.8272506082725061, 'mrr': 0.6879399837793996}"
      ]
     },
     "execution_count": 106,
     "metadata": {},
     "output_type": "execute_result"
    }
   ],
   "source": [
    "def answer_vector_knn(q):\n",
    "    question = q['question']\n",
    "    section = q['claims_type']\n",
    "\n",
    "    v_q = model.encode(question)\n",
    "\n",
    "    return elastic_search_knn('answer_vector', v_q, section)\n",
    "evaluate(ground_truth, answer_vector_knn)"
   ]
  },
  {
   "cell_type": "code",
   "execution_count": 107,
   "id": "b3757eaf-feb7-4f7e-9a09-9641e876039a",
   "metadata": {},
   "outputs": [
    {
     "data": {
      "application/vnd.jupyter.widget-view+json": {
       "model_id": "ce1b269994b44991b9b65c66a15d9bc7",
       "version_major": 2,
       "version_minor": 0
      },
      "text/plain": [
       "  0%|          | 0/2055 [00:00<?, ?it/s]"
      ]
     },
     "metadata": {},
     "output_type": "display_data"
    },
    {
     "data": {
      "text/plain": [
       "{'hit_rate': 0.9304136253041363, 'mrr': 0.8123276561232763}"
      ]
     },
     "execution_count": 107,
     "metadata": {},
     "output_type": "execute_result"
    }
   ],
   "source": [
    "def question_answer_vector_knn(q):\n",
    "    question = q['question']\n",
    "    section = q['claims_type']\n",
    "\n",
    "    v_q = model.encode(question)\n",
    "\n",
    "    return elastic_search_knn('question_answer_vector', v_q, section)\n",
    "\n",
    "evaluate(ground_truth, question_answer_vector_knn)"
   ]
  },
  {
   "cell_type": "code",
   "execution_count": 109,
   "id": "a0608b53-e79b-49de-94cc-f060be61b453",
   "metadata": {},
   "outputs": [],
   "source": [
    "def elastic_search_knn_combined(vector, section):\n",
    "    search_query = {\n",
    "        \"size\": 5,\n",
    "        \"query\": {\n",
    "            \"bool\": {\n",
    "                \"must\": [\n",
    "                    {\n",
    "                        \"script_score\": {\n",
    "                            \"query\": {\n",
    "                                \"term\": {\n",
    "                                    \"Section\": section\n",
    "                                }\n",
    "                            },\n",
    "                            \"script\": {\n",
    "                                \"source\": \"\"\"\n",
    "                                    cosineSimilarity(params.query_vector, 'question_vector') + \n",
    "                                    cosineSimilarity(params.query_vector, 'answer_vector') + \n",
    "                                    cosineSimilarity(params.query_vector, 'question_answer_vector') + \n",
    "                                    1\n",
    "                                \"\"\",\n",
    "                                \"params\": {\n",
    "                                    \"query_vector\": vector\n",
    "                                }\n",
    "                            }\n",
    "                        }\n",
    "                    }\n",
    "                ],\n",
    "                \"filter\": {\n",
    "                    \"term\": {\n",
    "                        \"Section\": section\n",
    "                    }\n",
    "                }\n",
    "            }\n",
    "        },\n",
    "        \"_source\": [\"Answer\", \"Section\", \"Question\", \"Category\", \"id\"]\n",
    "    }\n",
    "\n",
    "    es_results = es_client.search(\n",
    "        index=index_name,\n",
    "        body=search_query\n",
    "    )\n",
    "    \n",
    "    result_docs = []\n",
    "    \n",
    "    for hit in es_results['hits']['hits']:\n",
    "        result_docs.append(hit['_source'])\n",
    "\n",
    "    return result_docs"
   ]
  },
  {
   "cell_type": "code",
   "execution_count": 110,
   "id": "00464533-49e8-498f-95da-8376059776e9",
   "metadata": {},
   "outputs": [
    {
     "data": {
      "application/vnd.jupyter.widget-view+json": {
       "model_id": "32e856cb93b3456daacefd6b864fc2eb",
       "version_major": 2,
       "version_minor": 0
      },
      "text/plain": [
       "  0%|          | 0/2055 [00:00<?, ?it/s]"
      ]
     },
     "metadata": {},
     "output_type": "display_data"
    },
    {
     "data": {
      "text/plain": [
       "{'hit_rate': 0.9211678832116789, 'mrr': 0.8021573398215729}"
      ]
     },
     "execution_count": 110,
     "metadata": {},
     "output_type": "execute_result"
    }
   ],
   "source": [
    "def vector_combined_knn(q):\n",
    "    question = q['question']\n",
    "    section = q['claims_type']\n",
    "\n",
    "    v_q = model.encode(question)\n",
    "\n",
    "    return elastic_search_knn_combined(v_q, section)\n",
    "\n",
    "evaluate(ground_truth, vector_combined_knn)"
   ]
  },
  {
   "cell_type": "markdown",
   "id": "14a95fae-5df0-4233-9c15-172dfbd83fcc",
   "metadata": {},
   "source": [
    "question_answer_vector : {'hit_rate': 0.9304136253041363, 'mrr': 0.8123276561232763}"
   ]
  },
  {
   "cell_type": "code",
   "execution_count": null,
   "id": "8ed7371d-0524-410b-bdf2-77a98aee7592",
   "metadata": {},
   "outputs": [],
   "source": []
  }
 ],
 "metadata": {
  "kernelspec": {
   "display_name": "Python 3 (ipykernel)",
   "language": "python",
   "name": "python3"
  },
  "language_info": {
   "codemirror_mode": {
    "name": "ipython",
    "version": 3
   },
   "file_extension": ".py",
   "mimetype": "text/x-python",
   "name": "python",
   "nbconvert_exporter": "python",
   "pygments_lexer": "ipython3",
   "version": "3.12.1"
  }
 },
 "nbformat": 4,
 "nbformat_minor": 5
}
