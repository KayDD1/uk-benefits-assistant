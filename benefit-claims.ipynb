{
 "cells": [
  {
   "cell_type": "code",
   "execution_count": 1,
   "id": "808e5608-ea49-4dba-8a90-796cb45d3d30",
   "metadata": {},
   "outputs": [],
   "source": [
    "import pandas as pd\n",
    "import minsearch\n",
    "import json\n",
    "\n",
    "from tqdm.auto import tqdm\n",
    "from openai import OpenAI\n",
    "from dotenv import load_dotenv\n",
    "from elasticsearch import Elasticsearch"
   ]
  },
  {
   "cell_type": "markdown",
   "id": "336a2491-d12d-4100-9f2a-9cc07cf85a71",
   "metadata": {},
   "source": [
    "## Load Document"
   ]
  },
  {
   "cell_type": "code",
   "execution_count": 2,
   "id": "388aea18-8ac9-4c52-82b2-ca963099f8bd",
   "metadata": {},
   "outputs": [
    {
     "data": {
      "text/plain": [
       "True"
      ]
     },
     "execution_count": 2,
     "metadata": {},
     "output_type": "execute_result"
    }
   ],
   "source": [
    "load_dotenv()"
   ]
  },
  {
   "cell_type": "code",
   "execution_count": 3,
   "id": "a694a178-66a8-409c-95ec-57411be6a1c1",
   "metadata": {},
   "outputs": [],
   "source": [
    "df = pd.read_csv('notebooks/claims.csv')\n",
    "df.columns = df.columns.str.lower()"
   ]
  },
  {
   "cell_type": "code",
   "execution_count": 4,
   "id": "c4fb3ec4-d1f2-41f9-82f7-01f95f927a97",
   "metadata": {},
   "outputs": [],
   "source": [
    "documents = df.to_dict(orient='records')"
   ]
  },
  {
   "cell_type": "code",
   "execution_count": 5,
   "id": "e8f861cd-5d67-4314-a54c-6302917ca871",
   "metadata": {},
   "outputs": [
    {
     "data": {
      "text/plain": [
       "{'category': 'Temporarily unable to work',\n",
       " 'question': \"Can I get sick pay if I'm self-isolating?\",\n",
       " 'answer': \"Yes Statutory Sick Pay is available if you're self-isolating.\",\n",
       " 'section': 'general claim benefits'}"
      ]
     },
     "execution_count": 5,
     "metadata": {},
     "output_type": "execute_result"
    }
   ],
   "source": [
    "documents[10]"
   ]
  },
  {
   "cell_type": "markdown",
   "id": "79d24f93-598f-4662-b23c-d2c038472546",
   "metadata": {},
   "source": [
    "## Minsearch"
   ]
  },
  {
   "cell_type": "code",
   "execution_count": 6,
   "id": "8cfc4278-d267-440c-9138-2e4c82dd01d3",
   "metadata": {},
   "outputs": [
    {
     "data": {
      "text/plain": [
       "<minsearch.Index at 0x7e947a0d99a0>"
      ]
     },
     "execution_count": 6,
     "metadata": {},
     "output_type": "execute_result"
    }
   ],
   "source": [
    "index = minsearch.Index(\n",
    "    text_fields=[\"question\", \"answer\", \"section\"],\n",
    "    keyword_fields=[\"category\"]\n",
    ")\n",
    "index.fit(documents)"
   ]
  },
  {
   "cell_type": "code",
   "execution_count": 7,
   "id": "6c64f094-0976-4fb2-9c91-887302ee11b5",
   "metadata": {},
   "outputs": [],
   "source": [
    "q = \"Can I get sick pay if I'm self-isolating?\""
   ]
  },
  {
   "cell_type": "code",
   "execution_count": 8,
   "id": "6963ce76-8a40-4a9e-a024-bc083abd3721",
   "metadata": {},
   "outputs": [
    {
     "data": {
      "text/plain": [
       "\"Whether you can get sick pay while self-isolating depends on several factors, including your country of residence and your employment status.\\n\\n### United Kingdom\\n\\nIn the UK, statutory sick pay (SSP) can be claimed by employees if they’re self-isolating in accordance with government and medical guidelines. However, SSP typically does not cover self-employed individuals.\\n\\n- **Employees**: Eligible if they earn at least £120 a week and have been self-isolating for more than 4 consecutive days.\\n- **Self-employed**: Generally, self-employed individuals are not entitled to SSP, but they may be eligible for other forms of support like the Self-Employment Income Support Scheme (SEISS).\\n\\n### United States\\n\\n- **Employees**: Under the Families First Coronavirus Response Act (FFCRA) which expired in December 2020, employees of certain public employers or private employers with fewer than 500 employees could get paid sick leave. Some states have their own laws providing paid sick leave.\\n- **Self-employed**: May have qualified for tax credits designed to offset the financial impact of needing to self-isolate, but the specifics can vary and should be checked with the IRS.\\n\\n### Other Countries\\n\\nRegulations vary widely. \\n\\n- In **Canada**, for example, some provinces offer income support programs for self-employed individuals who need to self-isolate.\\n- In **Australia**, employees are generally entitled to paid sick leave, but self-employed individuals might have to rely on government support packages.\\n\\n### General Advice\\n\\n- **Check Local Guidelines**: Government websites often have up-to-date and detailed information.\\n- **Seek Legal Advice**: If you're unsure, consulting with an employment lawyer or financial advisor can provide clarity based on your specific circumstances.\\n- **Government Support**: Explore if there are special provisions or emergency funds available during health crises like a pandemic.\\n\\nIt's always a good idea to stay informed about the specific benefits and programs available in your region, as these can change depending on new laws and regulations.\""
      ]
     },
     "execution_count": 8,
     "metadata": {},
     "output_type": "execute_result"
    }
   ],
   "source": [
    "client = OpenAI()\n",
    "response = client.chat.completions.create(\n",
    "    model='gpt-4o',\n",
    "    messages=[{\"role\": \"user\", \"content\": q}]\n",
    ")\n",
    "\n",
    "response.choices[0].message.content"
   ]
  },
  {
   "cell_type": "code",
   "execution_count": 1,
   "id": "f7761c28-a8bb-4c30-9bae-7aac51949603",
   "metadata": {},
   "outputs": [],
   "source": [
    "def search(query):\n",
    "    boost = {'question': 3.0, 'category': 0.5}\n",
    "\n",
    "    results = index.search(\n",
    "        query=query,\n",
    "        filter_dict={'section': 'general claim benefits'},\n",
    "        boost_dict=boost,\n",
    "        num_results=5\n",
    "    )\n",
    "\n",
    "    return results"
   ]
  },
  {
   "cell_type": "code",
   "execution_count": 10,
   "id": "99e1fcd5-d100-4e71-a4c2-bacdcd777714",
   "metadata": {},
   "outputs": [],
   "source": [
    "\n",
    "def build_prompt(query, search_results):\n",
    "    prompt_template = \"\"\"\n",
    "You are an expert in United Kingdom Benefit Claims and Medical Negligence Claims. Answer the QUESTION based on the CONTEXT from the FAQ database. \n",
    "Use only the facts from the CONTEXT when answering the QUESTION.\n",
    "\n",
    "QUESTION: {question}\n",
    "\n",
    "CONTEXT: \n",
    "{context}\n",
    "\"\"\".strip()\n",
    "\n",
    "    context = \"\"\n",
    "    \n",
    "    for doc in search_results:\n",
    "        context = context + f\"section: {doc['section']}\\nquestion: {doc['question']}\\nanswer: {doc['answer']}\\n\\n\"\n",
    "    \n",
    "    prompt = prompt_template.format(question=query, context=context).strip()\n",
    "    return prompt\n"
   ]
  },
  {
   "cell_type": "code",
   "execution_count": 11,
   "id": "507f866c-67c4-468b-bfc2-7021a0168276",
   "metadata": {},
   "outputs": [],
   "source": [
    "def llm(prompt):\n",
    "    response = client.chat.completions.create(\n",
    "        model='gpt-4o',\n",
    "        messages=[{\"role\": \"user\", \"content\": prompt}]\n",
    "    )\n",
    "    \n",
    "    return response.choices[0].message.content"
   ]
  },
  {
   "cell_type": "code",
   "execution_count": 16,
   "id": "2875da3e-0241-4c42-ae7a-578a826deae8",
   "metadata": {},
   "outputs": [],
   "source": [
    "query = \"Can I get sick pay if I'm self-isolating?\"\n",
    "\n",
    "def rag(query):\n",
    "    search_results = search(query)\n",
    "    prompt = build_prompt(query, search_results)\n",
    "    answer = llm(prompt)\n",
    "    return answer"
   ]
  },
  {
   "cell_type": "code",
   "execution_count": 17,
   "id": "be330bcb-cf2c-4d73-849b-c2cf22a35157",
   "metadata": {},
   "outputs": [
    {
     "data": {
      "text/plain": [
       "\"If you're self-isolating, you may be eligible for Statutory Sick Pay (SSP) provided you meet the qualifying criteria. While typically, SSP is available to employees, self-employed individuals might not directly qualify for SSP but might be eligible for other support like Universal Credit or Employment and Support Allowance (ESA) if they cannot work. It's always best to check the latest government guidance or consult with an advisor for the most accurate and tailored advice based on your specific situation.\""
      ]
     },
     "execution_count": 17,
     "metadata": {},
     "output_type": "execute_result"
    }
   ],
   "source": [
    "rag(query)"
   ]
  },
  {
   "cell_type": "code",
   "execution_count": null,
   "id": "d432903b-6878-4837-bb2f-c9b1f8e4d410",
   "metadata": {},
   "outputs": [],
   "source": []
  },
  {
   "cell_type": "markdown",
   "id": "399712ab-91f2-4c69-aea1-a573088c8efd",
   "metadata": {},
   "source": [
    "## Elasticsearch"
   ]
  },
  {
   "cell_type": "code",
   "execution_count": 14,
   "id": "6873230c-150f-44fe-9692-e2d92bac7a58",
   "metadata": {},
   "outputs": [],
   "source": [
    "es_client = Elasticsearch('http://localhost:9200') "
   ]
  },
  {
   "cell_type": "code",
   "execution_count": 18,
   "id": "10e64f0c-a0b0-4576-b519-66a374670977",
   "metadata": {},
   "outputs": [
    {
     "data": {
      "text/plain": [
       "ObjectApiResponse({'acknowledged': True, 'shards_acknowledged': True, 'index': 'claim-assistant'})"
      ]
     },
     "execution_count": 18,
     "metadata": {},
     "output_type": "execute_result"
    }
   ],
   "source": [
    "index_settings = {\n",
    "    \"settings\": {\n",
    "        \"number_of_shards\": 1,\n",
    "        \"number_of_replicas\": 0\n",
    "    },\n",
    "    \"mappings\": {\n",
    "        \"properties\": {\n",
    "            \"answer\": {\"type\": \"text\"},\n",
    "            \"section\": {\"type\": \"text\"},\n",
    "            \"question\": {\"type\": \"text\"},\n",
    "            \"category\": {\"type\": \"keyword\"} \n",
    "        }\n",
    "    }\n",
    "}\n",
    "\n",
    "index_name = \"claim-assistant\"\n",
    "\n",
    "es_client.indices.create(index=index_name, body=index_settings)"
   ]
  },
  {
   "cell_type": "code",
   "execution_count": 19,
   "id": "482617b8-56fe-4256-9786-e12dd8a47d12",
   "metadata": {},
   "outputs": [
    {
     "data": {
      "application/vnd.jupyter.widget-view+json": {
       "model_id": "978b5beaacc347c89a753c3c901a55da",
       "version_major": 2,
       "version_minor": 0
      },
      "text/plain": [
       "  0%|          | 0/425 [00:00<?, ?it/s]"
      ]
     },
     "metadata": {},
     "output_type": "display_data"
    }
   ],
   "source": [
    "for doc in tqdm(documents):\n",
    "    es_client.index(index=index_name, document=doc)"
   ]
  },
  {
   "cell_type": "code",
   "execution_count": 20,
   "id": "5a7f4001-2f8f-4582-aee3-83d4dd782749",
   "metadata": {},
   "outputs": [],
   "source": [
    "def elastic_search(query):\n",
    "    search_query = {\n",
    "        \"size\": 5,\n",
    "        \"query\": {\n",
    "            \"bool\": {\n",
    "                \"must\": {\n",
    "                    \"multi_match\": {\n",
    "                        \"query\": query,\n",
    "                        \"fields\": [\"question^3\", \"answer\", \"section\"],\n",
    "                        \"type\": \"best_fields\"\n",
    "                    }\n",
    "                },\n",
    "                \"filter\": {\n",
    "                    \"term\": {\n",
    "                        \"category\": \"general claim benefits\"\n",
    "                    }\n",
    "                }\n",
    "            }\n",
    "        }\n",
    "    }\n",
    "\n",
    "    response = es_client.search(index=index_name, body=search_query)\n",
    "    \n",
    "    result_docs = []\n",
    "    \n",
    "    for hit in response['hits']['hits']:\n",
    "        result_docs.append(hit['_source'])\n",
    "    \n",
    "    return result_docs"
   ]
  },
  {
   "cell_type": "code",
   "execution_count": 21,
   "id": "a4c7c948-5c74-494f-8b8d-60ad366ef2de",
   "metadata": {},
   "outputs": [],
   "source": [
    "def rag(query):\n",
    "    search_results = elastic_search(query)\n",
    "    prompt = build_prompt(query, search_results)\n",
    "    answer = llm(prompt)\n",
    "    return answer"
   ]
  },
  {
   "cell_type": "code",
   "execution_count": 22,
   "id": "0c6dfbfe-66f9-44ed-9f24-44639bb241de",
   "metadata": {},
   "outputs": [
    {
     "data": {
      "text/plain": [
       "\"If you cannot work because you're self-isolating, you may be eligible for statutory sick pay (SSP) if you meet the relevant criteria, even if you are not personally sick but are required to self-isolate by NHS guidelines. However, the specific eligibility criteria need to be checked to confirm your entitlement.\""
      ]
     },
     "execution_count": 22,
     "metadata": {},
     "output_type": "execute_result"
    }
   ],
   "source": [
    "query = \"Can I get sick pay if I'm self-isolating?\"\n",
    "rag(query)"
   ]
  },
  {
   "cell_type": "markdown",
   "id": "76a99f80-7f9d-42d7-a9c1-833ea03a1139",
   "metadata": {},
   "source": [
    "## Vector Search"
   ]
  },
  {
   "cell_type": "code",
   "execution_count": 23,
   "id": "6acf5eff-f27c-49f0-ab22-90d34beef662",
   "metadata": {},
   "outputs": [
    {
     "name": "stderr",
     "output_type": "stream",
     "text": [
      "/home/codespace/.local/share/virtualenvs/uk-benefits-assistant-nL9c5Gpa/lib/python3.12/site-packages/transformers/tokenization_utils_base.py:1601: FutureWarning: `clean_up_tokenization_spaces` was not set. It will be set to `True` by default. This behavior will be depracted in transformers v4.45, and will be then set to `False` by default. For more details check this issue: https://github.com/huggingface/transformers/issues/31884\n",
      "  warnings.warn(\n"
     ]
    }
   ],
   "source": [
    "from sentence_transformers import SentenceTransformer\n",
    "\n",
    "model_name = 'multi-qa-MiniLM-L6-cos-v1'\n",
    "model = SentenceTransformer(model_name)"
   ]
  },
  {
   "cell_type": "code",
   "execution_count": 24,
   "id": "b58ff3d3-7dfd-40f2-a5c9-748f5efe5de6",
   "metadata": {},
   "outputs": [
    {
     "data": {
      "text/plain": [
       "384"
      ]
     },
     "execution_count": 24,
     "metadata": {},
     "output_type": "execute_result"
    }
   ],
   "source": [
    "len(model.encode(\"Getting size of model dim\"))"
   ]
  },
  {
   "cell_type": "code",
   "execution_count": 34,
   "id": "0202b1aa-595b-4d4f-a25e-16806bbafb81",
   "metadata": {},
   "outputs": [],
   "source": [
    "questions = []\n",
    "for doc in documents:\n",
    "    doc[\"text_vector\"] = model.encode(doc[\"question\"]).tolist()\n",
    "    questions.append(doc)"
   ]
  },
  {
   "cell_type": "code",
   "execution_count": 35,
   "id": "beeff6ff-f974-43bd-8e27-64c5e807cbb5",
   "metadata": {},
   "outputs": [
    {
     "data": {
      "text/plain": [
       "ObjectApiResponse({'acknowledged': True, 'shards_acknowledged': True, 'index': 'uk-benefit-claims'})"
      ]
     },
     "execution_count": 35,
     "metadata": {},
     "output_type": "execute_result"
    }
   ],
   "source": [
    "from elasticsearch import Elasticsearch\n",
    "es_client = Elasticsearch('http://localhost:9200') \n",
    "\n",
    "index_settings = {\n",
    "    \"settings\": {\n",
    "        \"number_of_shards\": 1,\n",
    "        \"number_of_replicas\": 0\n",
    "    },\n",
    "    \"mappings\": {\n",
    "        \"properties\": {\n",
    "            \"answer\": {\"type\": \"text\"},\n",
    "            \"section\": {\"type\": \"text\"},\n",
    "            \"category\": {\"type\": \"keyword\"},\n",
    "            \"text_vector\": {\"type\": \"dense_vector\", \"dims\": 384, \"index\": True, \"similarity\": \"cosine\"},\n",
    "        }\n",
    "    }\n",
    "}\n",
    "index_name = \"uk-benefit-claims\"\n",
    "\n",
    "es_client.indices.delete(index=index_name, ignore_unavailable=True)\n",
    "es_client.indices.create(index=index_name, body=index_settings)"
   ]
  },
  {
   "cell_type": "code",
   "execution_count": 36,
   "id": "90a9e7fe-24e1-460b-9749-d4c73ddf2751",
   "metadata": {},
   "outputs": [],
   "source": [
    "for doc in sections:\n",
    "    try:\n",
    "        es_client.index(index=index_name, document=doc)\n",
    "    except Exception as e:\n",
    "        print(e)"
   ]
  },
  {
   "cell_type": "code",
   "execution_count": 37,
   "id": "c893e2c1-16d3-4490-b8ea-bd9b59c61a19",
   "metadata": {},
   "outputs": [],
   "source": [
    "search_term = \"Can I get sick pay if I'm self-isolating?\"\n",
    "vector_search_term = model.encode(search_term)"
   ]
  },
  {
   "cell_type": "code",
   "execution_count": 38,
   "id": "f4d8f944-0039-4933-a182-b49ef4e534ba",
   "metadata": {},
   "outputs": [],
   "source": [
    "query = {\n",
    "    \"field\": \"text_vector\",\n",
    "    \"query_vector\": vector_search_term,\n",
    "    \"k\": 5,\n",
    "    \"num_candidates\": 10000, \n",
    "}"
   ]
  },
  {
   "cell_type": "code",
   "execution_count": 39,
   "id": "ac39da17-ba1f-463a-b657-fe7ac87f3771",
   "metadata": {},
   "outputs": [
    {
     "data": {
      "text/plain": [
       "[{'_index': 'uk-benefit-claims',\n",
       "  '_id': 'OioGvZEBrjjSDBTcBurJ',\n",
       "  '_score': 1.0,\n",
       "  '_source': {'question': \"Can I get sick pay if I'm self-isolating?\",\n",
       "   'section': 'general claim benefits'}},\n",
       " {'_index': 'uk-benefit-claims',\n",
       "  '_id': 'PCoGvZEBrjjSDBTcBur3',\n",
       "  '_score': 0.79467446,\n",
       "  '_source': {'question': 'How do I apply for sick pay?',\n",
       "   'section': 'general claim benefits'}},\n",
       " {'_index': 'uk-benefit-claims',\n",
       "  '_id': 'PSoGvZEBrjjSDBTcB-oP',\n",
       "  '_score': 0.7573199,\n",
       "  '_source': {'question': 'What is statutory sick pay?',\n",
       "   'section': 'general claim benefits'}},\n",
       " {'_index': 'uk-benefit-claims',\n",
       "  '_id': 'ZyoGvZEBrjjSDBTcJOsI',\n",
       "  '_score': 0.73088014,\n",
       "  '_source': {'question': 'Can compensation cover the cost of private medical treatment?',\n",
       "   'section': 'nhs claim benefits'}},\n",
       " {'_index': 'uk-benefit-claims',\n",
       "  '_id': 'sioGvZEBrjjSDBTcLOsj',\n",
       "  '_score': 0.711921,\n",
       "  '_source': {'question': 'Is a miscommunication between healthcare providers a breach of duty?',\n",
       "   'section': 'nhs claim benefits'}}]"
      ]
     },
     "execution_count": 39,
     "metadata": {},
     "output_type": "execute_result"
    }
   ],
   "source": [
    "res = es_client.search(index=index_name, knn=query, source=[\"text\", \"section\", \"question\", \"course\"])\n",
    "res[\"hits\"][\"hits\"]"
   ]
  },
  {
   "cell_type": "code",
   "execution_count": null,
   "id": "15a67dad-b5cc-4350-95ad-53fe46495322",
   "metadata": {},
   "outputs": [],
   "source": []
  }
 ],
 "metadata": {
  "kernelspec": {
   "display_name": "Python 3 (ipykernel)",
   "language": "python",
   "name": "python3"
  },
  "language_info": {
   "codemirror_mode": {
    "name": "ipython",
    "version": 3
   },
   "file_extension": ".py",
   "mimetype": "text/x-python",
   "name": "python",
   "nbconvert_exporter": "python",
   "pygments_lexer": "ipython3",
   "version": "3.12.1"
  }
 },
 "nbformat": 4,
 "nbformat_minor": 5
}
